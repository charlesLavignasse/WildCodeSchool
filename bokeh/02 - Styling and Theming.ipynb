{
 "cells": [
  {
   "cell_type": "markdown",
   "metadata": {},
   "source": [
    "<table style=\"float:left; border:none\">\n",
    "   <tr style=\"border:none; background-color: #ffffff\">\n",
    "       <td style=\"border:none\">\n",
    "           <a href=\"http://bokeh.org/\">     \n",
    "           <img \n",
    "               src=\"assets/bokeh-transparent.png\" \n",
    "               style=\"width:50px\"\n",
    "           >\n",
    "           </a>    \n",
    "       </td>\n",
    "       <td style=\"border:none\">\n",
    "           <h1>Bokeh Tutorial</h1>\n",
    "       </td>\n",
    "   </tr>\n",
    "</table>\n",
    "\n",
    "<div style=\"float:right;\"><h2>02. Styling and Theming</h2></div>"
   ]
  },
  {
   "cell_type": "markdown",
   "metadata": {},
   "source": [
    "In this chapter we will learn how to configure various visual aspects of our plots, and how to find out more about what an be configured. \n",
    "\n",
    "First, let's make the standard imports"
   ]
  },
  {
   "cell_type": "code",
   "execution_count": 5,
   "metadata": {},
   "outputs": [],
   "source": [
    "from bokeh.io import output_notebook, show\n",
    "from bokeh.plotting import figure\n",
    "import numpy as np\n",
    "import pandas as pd"
   ]
  },
  {
   "cell_type": "code",
   "execution_count": 2,
   "metadata": {},
   "outputs": [
    {
     "data": {
      "text/html": [
       "\n",
       "    <div class=\"bk-root\">\n",
       "        <a href=\"https://bokeh.pydata.org\" target=\"_blank\" class=\"bk-logo bk-logo-small bk-logo-notebook\"></a>\n",
       "        <span id=\"1001\">Loading BokehJS ...</span>\n",
       "    </div>"
      ]
     },
     "metadata": {},
     "output_type": "display_data"
    },
    {
     "data": {
      "application/javascript": [
       "\n",
       "(function(root) {\n",
       "  function now() {\n",
       "    return new Date();\n",
       "  }\n",
       "\n",
       "  var force = true;\n",
       "\n",
       "  if (typeof root._bokeh_onload_callbacks === \"undefined\" || force === true) {\n",
       "    root._bokeh_onload_callbacks = [];\n",
       "    root._bokeh_is_loading = undefined;\n",
       "  }\n",
       "\n",
       "  var JS_MIME_TYPE = 'application/javascript';\n",
       "  var HTML_MIME_TYPE = 'text/html';\n",
       "  var EXEC_MIME_TYPE = 'application/vnd.bokehjs_exec.v0+json';\n",
       "  var CLASS_NAME = 'output_bokeh rendered_html';\n",
       "\n",
       "  /**\n",
       "   * Render data to the DOM node\n",
       "   */\n",
       "  function render(props, node) {\n",
       "    var script = document.createElement(\"script\");\n",
       "    node.appendChild(script);\n",
       "  }\n",
       "\n",
       "  /**\n",
       "   * Handle when an output is cleared or removed\n",
       "   */\n",
       "  function handleClearOutput(event, handle) {\n",
       "    var cell = handle.cell;\n",
       "\n",
       "    var id = cell.output_area._bokeh_element_id;\n",
       "    var server_id = cell.output_area._bokeh_server_id;\n",
       "    // Clean up Bokeh references\n",
       "    if (id != null && id in Bokeh.index) {\n",
       "      Bokeh.index[id].model.document.clear();\n",
       "      delete Bokeh.index[id];\n",
       "    }\n",
       "\n",
       "    if (server_id !== undefined) {\n",
       "      // Clean up Bokeh references\n",
       "      var cmd = \"from bokeh.io.state import curstate; print(curstate().uuid_to_server['\" + server_id + \"'].get_sessions()[0].document.roots[0]._id)\";\n",
       "      cell.notebook.kernel.execute(cmd, {\n",
       "        iopub: {\n",
       "          output: function(msg) {\n",
       "            var id = msg.content.text.trim();\n",
       "            if (id in Bokeh.index) {\n",
       "              Bokeh.index[id].model.document.clear();\n",
       "              delete Bokeh.index[id];\n",
       "            }\n",
       "          }\n",
       "        }\n",
       "      });\n",
       "      // Destroy server and session\n",
       "      var cmd = \"import bokeh.io.notebook as ion; ion.destroy_server('\" + server_id + \"')\";\n",
       "      cell.notebook.kernel.execute(cmd);\n",
       "    }\n",
       "  }\n",
       "\n",
       "  /**\n",
       "   * Handle when a new output is added\n",
       "   */\n",
       "  function handleAddOutput(event, handle) {\n",
       "    var output_area = handle.output_area;\n",
       "    var output = handle.output;\n",
       "\n",
       "    // limit handleAddOutput to display_data with EXEC_MIME_TYPE content only\n",
       "    if ((output.output_type != \"display_data\") || (!output.data.hasOwnProperty(EXEC_MIME_TYPE))) {\n",
       "      return\n",
       "    }\n",
       "\n",
       "    var toinsert = output_area.element.find(\".\" + CLASS_NAME.split(' ')[0]);\n",
       "\n",
       "    if (output.metadata[EXEC_MIME_TYPE][\"id\"] !== undefined) {\n",
       "      toinsert[toinsert.length - 1].firstChild.textContent = output.data[JS_MIME_TYPE];\n",
       "      // store reference to embed id on output_area\n",
       "      output_area._bokeh_element_id = output.metadata[EXEC_MIME_TYPE][\"id\"];\n",
       "    }\n",
       "    if (output.metadata[EXEC_MIME_TYPE][\"server_id\"] !== undefined) {\n",
       "      var bk_div = document.createElement(\"div\");\n",
       "      bk_div.innerHTML = output.data[HTML_MIME_TYPE];\n",
       "      var script_attrs = bk_div.children[0].attributes;\n",
       "      for (var i = 0; i < script_attrs.length; i++) {\n",
       "        toinsert[toinsert.length - 1].firstChild.setAttribute(script_attrs[i].name, script_attrs[i].value);\n",
       "      }\n",
       "      // store reference to server id on output_area\n",
       "      output_area._bokeh_server_id = output.metadata[EXEC_MIME_TYPE][\"server_id\"];\n",
       "    }\n",
       "  }\n",
       "\n",
       "  function register_renderer(events, OutputArea) {\n",
       "\n",
       "    function append_mime(data, metadata, element) {\n",
       "      // create a DOM node to render to\n",
       "      var toinsert = this.create_output_subarea(\n",
       "        metadata,\n",
       "        CLASS_NAME,\n",
       "        EXEC_MIME_TYPE\n",
       "      );\n",
       "      this.keyboard_manager.register_events(toinsert);\n",
       "      // Render to node\n",
       "      var props = {data: data, metadata: metadata[EXEC_MIME_TYPE]};\n",
       "      render(props, toinsert[toinsert.length - 1]);\n",
       "      element.append(toinsert);\n",
       "      return toinsert\n",
       "    }\n",
       "\n",
       "    /* Handle when an output is cleared or removed */\n",
       "    events.on('clear_output.CodeCell', handleClearOutput);\n",
       "    events.on('delete.Cell', handleClearOutput);\n",
       "\n",
       "    /* Handle when a new output is added */\n",
       "    events.on('output_added.OutputArea', handleAddOutput);\n",
       "\n",
       "    /**\n",
       "     * Register the mime type and append_mime function with output_area\n",
       "     */\n",
       "    OutputArea.prototype.register_mime_type(EXEC_MIME_TYPE, append_mime, {\n",
       "      /* Is output safe? */\n",
       "      safe: true,\n",
       "      /* Index of renderer in `output_area.display_order` */\n",
       "      index: 0\n",
       "    });\n",
       "  }\n",
       "\n",
       "  // register the mime type if in Jupyter Notebook environment and previously unregistered\n",
       "  if (root.Jupyter !== undefined) {\n",
       "    var events = require('base/js/events');\n",
       "    var OutputArea = require('notebook/js/outputarea').OutputArea;\n",
       "\n",
       "    if (OutputArea.prototype.mime_types().indexOf(EXEC_MIME_TYPE) == -1) {\n",
       "      register_renderer(events, OutputArea);\n",
       "    }\n",
       "  }\n",
       "\n",
       "  \n",
       "  if (typeof (root._bokeh_timeout) === \"undefined\" || force === true) {\n",
       "    root._bokeh_timeout = Date.now() + 5000;\n",
       "    root._bokeh_failed_load = false;\n",
       "  }\n",
       "\n",
       "  var NB_LOAD_WARNING = {'data': {'text/html':\n",
       "     \"<div style='background-color: #fdd'>\\n\"+\n",
       "     \"<p>\\n\"+\n",
       "     \"BokehJS does not appear to have successfully loaded. If loading BokehJS from CDN, this \\n\"+\n",
       "     \"may be due to a slow or bad network connection. Possible fixes:\\n\"+\n",
       "     \"</p>\\n\"+\n",
       "     \"<ul>\\n\"+\n",
       "     \"<li>re-rerun `output_notebook()` to attempt to load from CDN again, or</li>\\n\"+\n",
       "     \"<li>use INLINE resources instead, as so:</li>\\n\"+\n",
       "     \"</ul>\\n\"+\n",
       "     \"<code>\\n\"+\n",
       "     \"from bokeh.resources import INLINE\\n\"+\n",
       "     \"output_notebook(resources=INLINE)\\n\"+\n",
       "     \"</code>\\n\"+\n",
       "     \"</div>\"}};\n",
       "\n",
       "  function display_loaded() {\n",
       "    var el = document.getElementById(\"1001\");\n",
       "    if (el != null) {\n",
       "      el.textContent = \"BokehJS is loading...\";\n",
       "    }\n",
       "    if (root.Bokeh !== undefined) {\n",
       "      if (el != null) {\n",
       "        el.textContent = \"BokehJS \" + root.Bokeh.version + \" successfully loaded.\";\n",
       "      }\n",
       "    } else if (Date.now() < root._bokeh_timeout) {\n",
       "      setTimeout(display_loaded, 100)\n",
       "    }\n",
       "  }\n",
       "\n",
       "\n",
       "  function run_callbacks() {\n",
       "    try {\n",
       "      root._bokeh_onload_callbacks.forEach(function(callback) {\n",
       "        if (callback != null)\n",
       "          callback();\n",
       "      });\n",
       "    } finally {\n",
       "      delete root._bokeh_onload_callbacks\n",
       "    }\n",
       "    console.debug(\"Bokeh: all callbacks have finished\");\n",
       "  }\n",
       "\n",
       "  function load_libs(css_urls, js_urls, callback) {\n",
       "    if (css_urls == null) css_urls = [];\n",
       "    if (js_urls == null) js_urls = [];\n",
       "\n",
       "    root._bokeh_onload_callbacks.push(callback);\n",
       "    if (root._bokeh_is_loading > 0) {\n",
       "      console.debug(\"Bokeh: BokehJS is being loaded, scheduling callback at\", now());\n",
       "      return null;\n",
       "    }\n",
       "    if (js_urls == null || js_urls.length === 0) {\n",
       "      run_callbacks();\n",
       "      return null;\n",
       "    }\n",
       "    console.debug(\"Bokeh: BokehJS not loaded, scheduling load and callback at\", now());\n",
       "    root._bokeh_is_loading = css_urls.length + js_urls.length;\n",
       "\n",
       "    function on_load() {\n",
       "      root._bokeh_is_loading--;\n",
       "      if (root._bokeh_is_loading === 0) {\n",
       "        console.debug(\"Bokeh: all BokehJS libraries/stylesheets loaded\");\n",
       "        run_callbacks()\n",
       "      }\n",
       "    }\n",
       "\n",
       "    function on_error() {\n",
       "      console.error(\"failed to load \" + url);\n",
       "    }\n",
       "\n",
       "    for (var i = 0; i < css_urls.length; i++) {\n",
       "      var url = css_urls[i];\n",
       "      const element = document.createElement(\"link\");\n",
       "      element.onload = on_load;\n",
       "      element.onerror = on_error;\n",
       "      element.rel = \"stylesheet\";\n",
       "      element.type = \"text/css\";\n",
       "      element.href = url;\n",
       "      console.debug(\"Bokeh: injecting link tag for BokehJS stylesheet: \", url);\n",
       "      document.body.appendChild(element);\n",
       "    }\n",
       "\n",
       "    for (var i = 0; i < js_urls.length; i++) {\n",
       "      var url = js_urls[i];\n",
       "      var element = document.createElement('script');\n",
       "      element.onload = on_load;\n",
       "      element.onerror = on_error;\n",
       "      element.async = false;\n",
       "      element.src = url;\n",
       "      console.debug(\"Bokeh: injecting script tag for BokehJS library: \", url);\n",
       "      document.head.appendChild(element);\n",
       "    }\n",
       "  };var element = document.getElementById(\"1001\");\n",
       "  if (element == null) {\n",
       "    console.error(\"Bokeh: ERROR: autoload.js configured with elementid '1001' but no matching script tag was found. \")\n",
       "    return false;\n",
       "  }\n",
       "\n",
       "  function inject_raw_css(css) {\n",
       "    const element = document.createElement(\"style\");\n",
       "    element.appendChild(document.createTextNode(css));\n",
       "    document.body.appendChild(element);\n",
       "  }\n",
       "\n",
       "  var js_urls = [\"https://cdn.pydata.org/bokeh/release/bokeh-1.3.4.min.js\", \"https://cdn.pydata.org/bokeh/release/bokeh-widgets-1.3.4.min.js\", \"https://cdn.pydata.org/bokeh/release/bokeh-tables-1.3.4.min.js\", \"https://cdn.pydata.org/bokeh/release/bokeh-gl-1.3.4.min.js\"];\n",
       "  var css_urls = [];\n",
       "\n",
       "  var inline_js = [\n",
       "    function(Bokeh) {\n",
       "      Bokeh.set_log_level(\"info\");\n",
       "    },\n",
       "    \n",
       "    function(Bokeh) {\n",
       "      \n",
       "    },\n",
       "    function(Bokeh) {} // ensure no trailing comma for IE\n",
       "  ];\n",
       "\n",
       "  function run_inline_js() {\n",
       "    \n",
       "    if ((root.Bokeh !== undefined) || (force === true)) {\n",
       "      for (var i = 0; i < inline_js.length; i++) {\n",
       "        inline_js[i].call(root, root.Bokeh);\n",
       "      }if (force === true) {\n",
       "        display_loaded();\n",
       "      }} else if (Date.now() < root._bokeh_timeout) {\n",
       "      setTimeout(run_inline_js, 100);\n",
       "    } else if (!root._bokeh_failed_load) {\n",
       "      console.log(\"Bokeh: BokehJS failed to load within specified timeout.\");\n",
       "      root._bokeh_failed_load = true;\n",
       "    } else if (force !== true) {\n",
       "      var cell = $(document.getElementById(\"1001\")).parents('.cell').data().cell;\n",
       "      cell.output_area.append_execute_result(NB_LOAD_WARNING)\n",
       "    }\n",
       "\n",
       "  }\n",
       "\n",
       "  if (root._bokeh_is_loading === 0) {\n",
       "    console.debug(\"Bokeh: BokehJS loaded, going straight to plotting\");\n",
       "    run_inline_js();\n",
       "  } else {\n",
       "    load_libs(css_urls, js_urls, function() {\n",
       "      console.debug(\"Bokeh: BokehJS plotting callback run at\", now());\n",
       "      run_inline_js();\n",
       "    });\n",
       "  }\n",
       "}(window));"
      ],
      "application/vnd.bokehjs_load.v0+json": "\n(function(root) {\n  function now() {\n    return new Date();\n  }\n\n  var force = true;\n\n  if (typeof root._bokeh_onload_callbacks === \"undefined\" || force === true) {\n    root._bokeh_onload_callbacks = [];\n    root._bokeh_is_loading = undefined;\n  }\n\n  \n\n  \n  if (typeof (root._bokeh_timeout) === \"undefined\" || force === true) {\n    root._bokeh_timeout = Date.now() + 5000;\n    root._bokeh_failed_load = false;\n  }\n\n  var NB_LOAD_WARNING = {'data': {'text/html':\n     \"<div style='background-color: #fdd'>\\n\"+\n     \"<p>\\n\"+\n     \"BokehJS does not appear to have successfully loaded. If loading BokehJS from CDN, this \\n\"+\n     \"may be due to a slow or bad network connection. Possible fixes:\\n\"+\n     \"</p>\\n\"+\n     \"<ul>\\n\"+\n     \"<li>re-rerun `output_notebook()` to attempt to load from CDN again, or</li>\\n\"+\n     \"<li>use INLINE resources instead, as so:</li>\\n\"+\n     \"</ul>\\n\"+\n     \"<code>\\n\"+\n     \"from bokeh.resources import INLINE\\n\"+\n     \"output_notebook(resources=INLINE)\\n\"+\n     \"</code>\\n\"+\n     \"</div>\"}};\n\n  function display_loaded() {\n    var el = document.getElementById(\"1001\");\n    if (el != null) {\n      el.textContent = \"BokehJS is loading...\";\n    }\n    if (root.Bokeh !== undefined) {\n      if (el != null) {\n        el.textContent = \"BokehJS \" + root.Bokeh.version + \" successfully loaded.\";\n      }\n    } else if (Date.now() < root._bokeh_timeout) {\n      setTimeout(display_loaded, 100)\n    }\n  }\n\n\n  function run_callbacks() {\n    try {\n      root._bokeh_onload_callbacks.forEach(function(callback) {\n        if (callback != null)\n          callback();\n      });\n    } finally {\n      delete root._bokeh_onload_callbacks\n    }\n    console.debug(\"Bokeh: all callbacks have finished\");\n  }\n\n  function load_libs(css_urls, js_urls, callback) {\n    if (css_urls == null) css_urls = [];\n    if (js_urls == null) js_urls = [];\n\n    root._bokeh_onload_callbacks.push(callback);\n    if (root._bokeh_is_loading > 0) {\n      console.debug(\"Bokeh: BokehJS is being loaded, scheduling callback at\", now());\n      return null;\n    }\n    if (js_urls == null || js_urls.length === 0) {\n      run_callbacks();\n      return null;\n    }\n    console.debug(\"Bokeh: BokehJS not loaded, scheduling load and callback at\", now());\n    root._bokeh_is_loading = css_urls.length + js_urls.length;\n\n    function on_load() {\n      root._bokeh_is_loading--;\n      if (root._bokeh_is_loading === 0) {\n        console.debug(\"Bokeh: all BokehJS libraries/stylesheets loaded\");\n        run_callbacks()\n      }\n    }\n\n    function on_error() {\n      console.error(\"failed to load \" + url);\n    }\n\n    for (var i = 0; i < css_urls.length; i++) {\n      var url = css_urls[i];\n      const element = document.createElement(\"link\");\n      element.onload = on_load;\n      element.onerror = on_error;\n      element.rel = \"stylesheet\";\n      element.type = \"text/css\";\n      element.href = url;\n      console.debug(\"Bokeh: injecting link tag for BokehJS stylesheet: \", url);\n      document.body.appendChild(element);\n    }\n\n    for (var i = 0; i < js_urls.length; i++) {\n      var url = js_urls[i];\n      var element = document.createElement('script');\n      element.onload = on_load;\n      element.onerror = on_error;\n      element.async = false;\n      element.src = url;\n      console.debug(\"Bokeh: injecting script tag for BokehJS library: \", url);\n      document.head.appendChild(element);\n    }\n  };var element = document.getElementById(\"1001\");\n  if (element == null) {\n    console.error(\"Bokeh: ERROR: autoload.js configured with elementid '1001' but no matching script tag was found. \")\n    return false;\n  }\n\n  function inject_raw_css(css) {\n    const element = document.createElement(\"style\");\n    element.appendChild(document.createTextNode(css));\n    document.body.appendChild(element);\n  }\n\n  var js_urls = [\"https://cdn.pydata.org/bokeh/release/bokeh-1.3.4.min.js\", \"https://cdn.pydata.org/bokeh/release/bokeh-widgets-1.3.4.min.js\", \"https://cdn.pydata.org/bokeh/release/bokeh-tables-1.3.4.min.js\", \"https://cdn.pydata.org/bokeh/release/bokeh-gl-1.3.4.min.js\"];\n  var css_urls = [];\n\n  var inline_js = [\n    function(Bokeh) {\n      Bokeh.set_log_level(\"info\");\n    },\n    \n    function(Bokeh) {\n      \n    },\n    function(Bokeh) {} // ensure no trailing comma for IE\n  ];\n\n  function run_inline_js() {\n    \n    if ((root.Bokeh !== undefined) || (force === true)) {\n      for (var i = 0; i < inline_js.length; i++) {\n        inline_js[i].call(root, root.Bokeh);\n      }if (force === true) {\n        display_loaded();\n      }} else if (Date.now() < root._bokeh_timeout) {\n      setTimeout(run_inline_js, 100);\n    } else if (!root._bokeh_failed_load) {\n      console.log(\"Bokeh: BokehJS failed to load within specified timeout.\");\n      root._bokeh_failed_load = true;\n    } else if (force !== true) {\n      var cell = $(document.getElementById(\"1001\")).parents('.cell').data().cell;\n      cell.output_area.append_execute_result(NB_LOAD_WARNING)\n    }\n\n  }\n\n  if (root._bokeh_is_loading === 0) {\n    console.debug(\"Bokeh: BokehJS loaded, going straight to plotting\");\n    run_inline_js();\n  } else {\n    load_libs(css_urls, js_urls, function() {\n      console.debug(\"Bokeh: BokehJS plotting callback run at\", now());\n      run_inline_js();\n    });\n  }\n}(window));"
     },
     "metadata": {},
     "output_type": "display_data"
    }
   ],
   "source": [
    "output_notebook()"
   ]
  },
  {
   "cell_type": "markdown",
   "metadata": {},
   "source": [
    "Before we get started, it's useful to describe how colors and properties are specified in Bokeh. \n",
    "\n",
    "## Colors\n",
    "\n",
    "There are many places where you may need to specify colors. Bokeh can accept colors in a variety of different ways:\n",
    "\n",
    "* any of the [147 named CSS colors](http://www.w3schools.com/cssref/css_colornames.asp), e.g ``'green'``, ``'indigo'``\n",
    "* an RGB(A) hex value, e.g., ``'#FF0000'``, ``'#44444444'``\n",
    "* a 3-tuple of integers *(r,g,b)* between 0 and 255\n",
    "*  a 4-tuple of *(r,g,b,a)* where *r*, *g*, *b* are integers between 0 and 255 and *a* is a floating point value between 0 and 1\n",
    "\n",
    "\n",
    "\n",
    "## Properties\n",
    "\n",
    "Regardless of how a Bokeh plot is created, styling the visual aspects of the plot can always be accomplished by setting attributes on the Bokeh objects that comprise the resulting plot. Visual properties come in three kinds: line, fill, and text properties. For full information with code and examples see the [Styling Visual Properties](http://bokeh.pydata.org/en/latest/docs/user_guide/styling.html) section of the user guide. \n",
    "\n",
    "----\n",
    "\n",
    "### Line Properties\n",
    "\n",
    "Set the visual appearance of lines. The most common are ``line_color``, ``line_alpha``, ``line_width`` and ``line_dash``.\n",
    "\n",
    "### Fill Properties\n",
    "\n",
    "Set the visual appearance of filled areas: ``fill_color`` and ``fill_alpha``.\n",
    "\n",
    "### Text Properties\n",
    "\n",
    "Set the visual appearance of lines of text. The most common are ``text_font``, ``text_font_size``, ``text_color``, and ``text_alpha``.\n",
    "\n",
    "----\n",
    "\n",
    "Sometimes a prefix is used with property names, e.g. to distinguish between different line properties on the same object, or to give a more meaningful name. For example, to set the line width of the plot outline, you would say ``myplot.outline_line_width = 2``. "
   ]
  },
  {
   "cell_type": "markdown",
   "metadata": {},
   "source": [
    "# Plots\n",
    "\n",
    "Many top-level attributes of plots (outline, border, etc.) can be configured. See the [Plots](http://bokeh.pydata.org/en/latest/docs/user_guide/styling.html#plots) section of the styling guide for full information. \n",
    "\n",
    "Here is an example that tweaks the plot outline:"
   ]
  },
  {
   "cell_type": "code",
   "execution_count": 3,
   "metadata": {},
   "outputs": [
    {
     "data": {
      "text/html": [
       "\n",
       "\n",
       "\n",
       "\n",
       "\n",
       "\n",
       "  <div class=\"bk-root\" id=\"13dfce92-e38a-46e9-99fd-99ae4a0dcc53\" data-root-id=\"1002\"></div>\n"
      ]
     },
     "metadata": {},
     "output_type": "display_data"
    },
    {
     "data": {
      "application/javascript": [
       "(function(root) {\n",
       "  function embed_document(root) {\n",
       "    \n",
       "  var docs_json = {\"1abdcf8e-e1a1-49f8-837c-b37a3b408d33\":{\"roots\":{\"references\":[{\"attributes\":{\"below\":[{\"id\":\"1011\",\"type\":\"LinearAxis\"}],\"center\":[{\"id\":\"1015\",\"type\":\"Grid\"},{\"id\":\"1020\",\"type\":\"Grid\"}],\"left\":[{\"id\":\"1016\",\"type\":\"LinearAxis\"}],\"outline_line_alpha\":{\"value\":0.3},\"outline_line_color\":{\"value\":\"navy\"},\"outline_line_width\":{\"value\":7},\"plot_height\":400,\"plot_width\":400,\"renderers\":[{\"id\":\"1037\",\"type\":\"GlyphRenderer\"}],\"title\":{\"id\":\"1040\",\"type\":\"Title\"},\"toolbar\":{\"id\":\"1027\",\"type\":\"Toolbar\"},\"x_range\":{\"id\":\"1003\",\"type\":\"DataRange1d\"},\"x_scale\":{\"id\":\"1007\",\"type\":\"LinearScale\"},\"y_range\":{\"id\":\"1005\",\"type\":\"DataRange1d\"},\"y_scale\":{\"id\":\"1009\",\"type\":\"LinearScale\"}},\"id\":\"1002\",\"subtype\":\"Figure\",\"type\":\"Plot\"},{\"attributes\":{},\"id\":\"1022\",\"type\":\"WheelZoomTool\"},{\"attributes\":{\"overlay\":{\"id\":\"1045\",\"type\":\"BoxAnnotation\"}},\"id\":\"1023\",\"type\":\"BoxZoomTool\"},{\"attributes\":{},\"id\":\"1025\",\"type\":\"ResetTool\"},{\"attributes\":{},\"id\":\"1026\",\"type\":\"HelpTool\"},{\"attributes\":{\"active_drag\":\"auto\",\"active_inspect\":\"auto\",\"active_multi\":null,\"active_scroll\":\"auto\",\"active_tap\":\"auto\",\"tools\":[{\"id\":\"1021\",\"type\":\"PanTool\"},{\"id\":\"1022\",\"type\":\"WheelZoomTool\"},{\"id\":\"1023\",\"type\":\"BoxZoomTool\"},{\"id\":\"1024\",\"type\":\"SaveTool\"},{\"id\":\"1025\",\"type\":\"ResetTool\"},{\"id\":\"1026\",\"type\":\"HelpTool\"}]},\"id\":\"1027\",\"type\":\"Toolbar\"},{\"attributes\":{\"text\":\"\"},\"id\":\"1040\",\"type\":\"Title\"},{\"attributes\":{\"callback\":null},\"id\":\"1005\",\"type\":\"DataRange1d\"},{\"attributes\":{},\"id\":\"1044\",\"type\":\"BasicTickFormatter\"},{\"attributes\":{},\"id\":\"1007\",\"type\":\"LinearScale\"},{\"attributes\":{\"bottom_units\":\"screen\",\"fill_alpha\":{\"value\":0.5},\"fill_color\":{\"value\":\"lightgrey\"},\"left_units\":\"screen\",\"level\":\"overlay\",\"line_alpha\":{\"value\":1.0},\"line_color\":{\"value\":\"black\"},\"line_dash\":[4,4],\"line_width\":{\"value\":2},\"render_mode\":\"css\",\"right_units\":\"screen\",\"top_units\":\"screen\"},\"id\":\"1045\",\"type\":\"BoxAnnotation\"},{\"attributes\":{},\"id\":\"1009\",\"type\":\"LinearScale\"},{\"attributes\":{},\"id\":\"1046\",\"type\":\"UnionRenderers\"},{\"attributes\":{\"formatter\":{\"id\":\"1042\",\"type\":\"BasicTickFormatter\"},\"ticker\":{\"id\":\"1012\",\"type\":\"BasicTicker\"}},\"id\":\"1011\",\"type\":\"LinearAxis\"},{\"attributes\":{},\"id\":\"1047\",\"type\":\"Selection\"},{\"attributes\":{},\"id\":\"1012\",\"type\":\"BasicTicker\"},{\"attributes\":{\"data_source\":{\"id\":\"1034\",\"type\":\"ColumnDataSource\"},\"glyph\":{\"id\":\"1035\",\"type\":\"Circle\"},\"hover_glyph\":null,\"muted_glyph\":null,\"nonselection_glyph\":{\"id\":\"1036\",\"type\":\"Circle\"},\"selection_glyph\":null,\"view\":{\"id\":\"1038\",\"type\":\"CDSView\"}},\"id\":\"1037\",\"type\":\"GlyphRenderer\"},{\"attributes\":{\"ticker\":{\"id\":\"1012\",\"type\":\"BasicTicker\"}},\"id\":\"1015\",\"type\":\"Grid\"},{\"attributes\":{},\"id\":\"1021\",\"type\":\"PanTool\"},{\"attributes\":{\"formatter\":{\"id\":\"1044\",\"type\":\"BasicTickFormatter\"},\"ticker\":{\"id\":\"1017\",\"type\":\"BasicTicker\"}},\"id\":\"1016\",\"type\":\"LinearAxis\"},{\"attributes\":{\"fill_color\":{\"value\":\"#1f77b4\"},\"line_color\":{\"value\":\"#1f77b4\"},\"size\":{\"units\":\"screen\",\"value\":10},\"x\":{\"field\":\"x\"},\"y\":{\"field\":\"y\"}},\"id\":\"1035\",\"type\":\"Circle\"},{\"attributes\":{},\"id\":\"1017\",\"type\":\"BasicTicker\"},{\"attributes\":{\"dimension\":1,\"ticker\":{\"id\":\"1017\",\"type\":\"BasicTicker\"}},\"id\":\"1020\",\"type\":\"Grid\"},{\"attributes\":{},\"id\":\"1042\",\"type\":\"BasicTickFormatter\"},{\"attributes\":{\"fill_alpha\":{\"value\":0.1},\"fill_color\":{\"value\":\"#1f77b4\"},\"line_alpha\":{\"value\":0.1},\"line_color\":{\"value\":\"#1f77b4\"},\"size\":{\"units\":\"screen\",\"value\":10},\"x\":{\"field\":\"x\"},\"y\":{\"field\":\"y\"}},\"id\":\"1036\",\"type\":\"Circle\"},{\"attributes\":{\"source\":{\"id\":\"1034\",\"type\":\"ColumnDataSource\"}},\"id\":\"1038\",\"type\":\"CDSView\"},{\"attributes\":{\"callback\":null,\"data\":{\"x\":[1,2,3,4,5],\"y\":[2,5,8,2,7]},\"selected\":{\"id\":\"1047\",\"type\":\"Selection\"},\"selection_policy\":{\"id\":\"1046\",\"type\":\"UnionRenderers\"}},\"id\":\"1034\",\"type\":\"ColumnDataSource\"},{\"attributes\":{\"callback\":null},\"id\":\"1003\",\"type\":\"DataRange1d\"},{\"attributes\":{},\"id\":\"1024\",\"type\":\"SaveTool\"}],\"root_ids\":[\"1002\"]},\"title\":\"Bokeh Application\",\"version\":\"1.3.4\"}};\n",
       "  var render_items = [{\"docid\":\"1abdcf8e-e1a1-49f8-837c-b37a3b408d33\",\"roots\":{\"1002\":\"13dfce92-e38a-46e9-99fd-99ae4a0dcc53\"}}];\n",
       "  root.Bokeh.embed.embed_items_notebook(docs_json, render_items);\n",
       "\n",
       "  }\n",
       "  if (root.Bokeh !== undefined) {\n",
       "    embed_document(root);\n",
       "  } else {\n",
       "    var attempts = 0;\n",
       "    var timer = setInterval(function(root) {\n",
       "      if (root.Bokeh !== undefined) {\n",
       "        embed_document(root);\n",
       "        clearInterval(timer);\n",
       "      }\n",
       "      attempts++;\n",
       "      if (attempts > 100) {\n",
       "        console.log(\"Bokeh: ERROR: Unable to run BokehJS code because BokehJS library is missing\");\n",
       "        clearInterval(timer);\n",
       "      }\n",
       "    }, 10, root)\n",
       "  }\n",
       "})(window);"
      ],
      "application/vnd.bokehjs_exec.v0+json": ""
     },
     "metadata": {
      "application/vnd.bokehjs_exec.v0+json": {
       "id": "1002"
      }
     },
     "output_type": "display_data"
    }
   ],
   "source": [
    "# create a new plot with a title\n",
    "p = figure(plot_width=400, plot_height=400)\n",
    "p.outline_line_width = 7\n",
    "p.outline_line_alpha = 0.3\n",
    "p.outline_line_color = \"navy\"\n",
    "\n",
    "p.circle([1,2,3,4,5], [2,5,8,2,7], size=10)\n",
    "\n",
    "show(p)"
   ]
  },
  {
   "cell_type": "code",
   "execution_count": 7,
   "metadata": {},
   "outputs": [
    {
     "data": {
      "text/html": [
       "\n",
       "\n",
       "\n",
       "\n",
       "\n",
       "\n",
       "  <div class=\"bk-root\" id=\"b0545a88-7b58-4139-8d69-120ab3e8a3de\" data-root-id=\"1243\"></div>\n"
      ]
     },
     "metadata": {},
     "output_type": "display_data"
    },
    {
     "data": {
      "application/javascript": [
       "(function(root) {\n",
       "  function embed_document(root) {\n",
       "    \n",
       "  var docs_json = {\"4c526589-3cab-42c2-84cf-e39fe0248034\":{\"roots\":{\"references\":[{\"attributes\":{\"below\":[{\"id\":\"1252\",\"type\":\"LinearAxis\"}],\"center\":[{\"id\":\"1256\",\"type\":\"Grid\"},{\"id\":\"1261\",\"type\":\"Grid\"}],\"left\":[{\"id\":\"1257\",\"type\":\"LinearAxis\"}],\"plot_height\":400,\"plot_width\":1250,\"renderers\":[{\"id\":\"1278\",\"type\":\"GlyphRenderer\"}],\"title\":{\"id\":\"1299\",\"type\":\"Title\"},\"toolbar\":{\"id\":\"1268\",\"type\":\"Toolbar\"},\"x_range\":{\"id\":\"1244\",\"type\":\"DataRange1d\"},\"x_scale\":{\"id\":\"1248\",\"type\":\"LinearScale\"},\"y_range\":{\"id\":\"1246\",\"type\":\"DataRange1d\"},\"y_scale\":{\"id\":\"1250\",\"type\":\"LinearScale\"}},\"id\":\"1243\",\"subtype\":\"Figure\",\"type\":\"Plot\"},{\"attributes\":{\"callback\":null},\"id\":\"1246\",\"type\":\"DataRange1d\"},{\"attributes\":{\"callback\":null,\"data\":{\"fill_alpha\":{\"__ndarray__\":\"5IcVmA5N3z9mKN0xWundP0ObFGwWFuk/CqDoEGg06z90yR5U77TnPzhHhCBbmsQ/kFrVUzVa0T/ITl4QhJ/IPzjNDmDzE+U/QBT8DM7vzT8EkgeLVynTP4wffpDBzdE/Ul0S8Xl94j+u2mBeBs3YP6KaccL0atg/pCFFilay6T9hQ0zCC6PtP7xqoPve8N0/aKwh90U24j+ZbAMjvsbvPyHZ7p58W+s/t6XY9rDH6z+wJXyN+7vOPw/aJabYHuQ/GnhBqyVY4D9qVsTJYPnmPzPMhW4vgO0/fDYVETB56T/wlFDSrH/DP1gh+CQ18tE/uCRi/q9/3j9An8HSKCXUP6KA49GPY9M/lPjbw7YPxD+QQXp3GBHVP9yLZ8LlFdY/trVdO47w1D++OhAoXMzuPyU9hYbMzOQ/BLAJ+Js24z8=\",\"dtype\":\"float64\",\"shape\":[40]},\"size\":[32,11,19,47,14,38,33,19,21,44,46,28,42,18,48,36,20,13,46,13,21,11,44,11,21,19,31,20,23,43,22,24,28,23,11,46,32,40,21,12],\"x\":[45,28,14,10,49,45,15,23,36,10,32,32,31,29,16,10,45,27,11,29,17,46,25,48,44,30,22,46,36,15,40,23,13,28,11,22,26,22,46,41],\"y\":[26,24,18,25,22,17,13,35,23,49,30,49,47,37,30,41,45,14,26,41,44,11,19,18,22,10,48,49,38,11,44,17,37,13,21,36,27,45,28,16]},\"selected\":{\"id\":\"1306\",\"type\":\"Selection\"},\"selection_policy\":{\"id\":\"1305\",\"type\":\"UnionRenderers\"}},\"id\":\"1275\",\"type\":\"ColumnDataSource\"},{\"attributes\":{},\"id\":\"1301\",\"type\":\"BasicTickFormatter\"},{\"attributes\":{\"source\":{\"id\":\"1275\",\"type\":\"ColumnDataSource\"}},\"id\":\"1279\",\"type\":\"CDSView\"},{\"attributes\":{\"fill_alpha\":{\"value\":0.1},\"fill_color\":{\"value\":\"#1f77b4\"},\"line_alpha\":{\"value\":0.1},\"line_color\":{\"value\":\"#1f77b4\"},\"size\":{\"field\":\"size\",\"units\":\"screen\"},\"x\":{\"field\":\"x\"},\"y\":{\"field\":\"y\"}},\"id\":\"1277\",\"type\":\"Circle\"},{\"attributes\":{\"fill_alpha\":{\"field\":\"fill_alpha\"},\"fill_color\":{\"value\":\"blue\"},\"line_color\":{\"value\":\"pink\"},\"size\":{\"field\":\"size\",\"units\":\"screen\"},\"x\":{\"field\":\"x\"},\"y\":{\"field\":\"y\"}},\"id\":\"1276\",\"type\":\"Circle\"},{\"attributes\":{},\"id\":\"1266\",\"type\":\"ResetTool\"},{\"attributes\":{\"dimension\":1,\"ticker\":{\"id\":\"1258\",\"type\":\"BasicTicker\"}},\"id\":\"1261\",\"type\":\"Grid\"},{\"attributes\":{\"ticker\":{\"id\":\"1253\",\"type\":\"BasicTicker\"}},\"id\":\"1256\",\"type\":\"Grid\"},{\"attributes\":{\"active_drag\":\"auto\",\"active_inspect\":\"auto\",\"active_multi\":null,\"active_scroll\":\"auto\",\"active_tap\":\"auto\",\"tools\":[{\"id\":\"1262\",\"type\":\"PanTool\"},{\"id\":\"1263\",\"type\":\"WheelZoomTool\"},{\"id\":\"1264\",\"type\":\"BoxZoomTool\"},{\"id\":\"1265\",\"type\":\"SaveTool\"},{\"id\":\"1266\",\"type\":\"ResetTool\"},{\"id\":\"1267\",\"type\":\"HelpTool\"}]},\"id\":\"1268\",\"type\":\"Toolbar\"},{\"attributes\":{},\"id\":\"1258\",\"type\":\"BasicTicker\"},{\"attributes\":{\"formatter\":{\"id\":\"1303\",\"type\":\"BasicTickFormatter\"},\"ticker\":{\"id\":\"1258\",\"type\":\"BasicTicker\"}},\"id\":\"1257\",\"type\":\"LinearAxis\"},{\"attributes\":{},\"id\":\"1253\",\"type\":\"BasicTicker\"},{\"attributes\":{},\"id\":\"1267\",\"type\":\"HelpTool\"},{\"attributes\":{\"text\":\"\"},\"id\":\"1299\",\"type\":\"Title\"},{\"attributes\":{},\"id\":\"1263\",\"type\":\"WheelZoomTool\"},{\"attributes\":{},\"id\":\"1250\",\"type\":\"LinearScale\"},{\"attributes\":{},\"id\":\"1306\",\"type\":\"Selection\"},{\"attributes\":{},\"id\":\"1265\",\"type\":\"SaveTool\"},{\"attributes\":{},\"id\":\"1248\",\"type\":\"LinearScale\"},{\"attributes\":{\"data_source\":{\"id\":\"1275\",\"type\":\"ColumnDataSource\"},\"glyph\":{\"id\":\"1276\",\"type\":\"Circle\"},\"hover_glyph\":null,\"muted_glyph\":null,\"nonselection_glyph\":{\"id\":\"1277\",\"type\":\"Circle\"},\"selection_glyph\":null,\"view\":{\"id\":\"1279\",\"type\":\"CDSView\"}},\"id\":\"1278\",\"type\":\"GlyphRenderer\"},{\"attributes\":{},\"id\":\"1303\",\"type\":\"BasicTickFormatter\"},{\"attributes\":{\"bottom_units\":\"screen\",\"fill_alpha\":{\"value\":0.5},\"fill_color\":{\"value\":\"lightgrey\"},\"left_units\":\"screen\",\"level\":\"overlay\",\"line_alpha\":{\"value\":1.0},\"line_color\":{\"value\":\"black\"},\"line_dash\":[4,4],\"line_width\":{\"value\":2},\"render_mode\":\"css\",\"right_units\":\"screen\",\"top_units\":\"screen\"},\"id\":\"1304\",\"type\":\"BoxAnnotation\"},{\"attributes\":{},\"id\":\"1262\",\"type\":\"PanTool\"},{\"attributes\":{\"formatter\":{\"id\":\"1301\",\"type\":\"BasicTickFormatter\"},\"ticker\":{\"id\":\"1253\",\"type\":\"BasicTicker\"}},\"id\":\"1252\",\"type\":\"LinearAxis\"},{\"attributes\":{},\"id\":\"1305\",\"type\":\"UnionRenderers\"},{\"attributes\":{\"callback\":null},\"id\":\"1244\",\"type\":\"DataRange1d\"},{\"attributes\":{\"overlay\":{\"id\":\"1304\",\"type\":\"BoxAnnotation\"}},\"id\":\"1264\",\"type\":\"BoxZoomTool\"}],\"root_ids\":[\"1243\"]},\"title\":\"Bokeh Application\",\"version\":\"1.3.4\"}};\n",
       "  var render_items = [{\"docid\":\"4c526589-3cab-42c2-84cf-e39fe0248034\",\"roots\":{\"1243\":\"b0545a88-7b58-4139-8d69-120ab3e8a3de\"}}];\n",
       "  root.Bokeh.embed.embed_items_notebook(docs_json, render_items);\n",
       "\n",
       "  }\n",
       "  if (root.Bokeh !== undefined) {\n",
       "    embed_document(root);\n",
       "  } else {\n",
       "    var attempts = 0;\n",
       "    var timer = setInterval(function(root) {\n",
       "      if (root.Bokeh !== undefined) {\n",
       "        embed_document(root);\n",
       "        clearInterval(timer);\n",
       "      }\n",
       "      attempts++;\n",
       "      if (attempts > 100) {\n",
       "        console.log(\"Bokeh: ERROR: Unable to run BokehJS code because BokehJS library is missing\");\n",
       "        clearInterval(timer);\n",
       "      }\n",
       "    }, 10, root)\n",
       "  }\n",
       "})(window);"
      ],
      "application/vnd.bokehjs_exec.v0+json": ""
     },
     "metadata": {
      "application/vnd.bokehjs_exec.v0+json": {
       "id": "1243"
      }
     },
     "output_type": "display_data"
    }
   ],
   "source": [
    "# EXERCISE Create a plot of your own and customize several plot-level properties\n",
    "# EXERCISE: Try changing the example above to set a `radius` value instead of `size`\n",
    "\n",
    "# create a new plot with default tools, using figure\n",
    "p = figure(plot_width=1250, plot_height=400)\n",
    "\n",
    "# add a circle renderer with x and y coordinates, size, color, and alpha\n",
    "p.circle([np.random.randint(10,50) for i in range(40)], [np.random.randint(10,50) for i in range(40)], size=[np.random.randint(10,50) for i in range(40)], line_color=\"pink\", fill_color=\"blue\", fill_alpha=np.random.random_sample((40,)))\n",
    "\n",
    "show(p) # show the results"
   ]
  },
  {
   "cell_type": "markdown",
   "metadata": {},
   "source": [
    "# Glyphs\n",
    "\n",
    "It's also possible to style the visual properties of glyphs. When using `bokeh.plotting` this is often done when calling the glyph methods:\n",
    "```python\n",
    "p.circle(line_color=\"red\", fill_alpha=0.2, ...)\n",
    "```\n",
    "But it is also possible to set these properties directly on glyph objects. Glyph objects are found on `GlyphRenderer` objects, which are returned by the `Plot.add_glyph` and `bokeh.plotting` glyph methods like `circle`, `rect`, etc. Let's look at an example:"
   ]
  },
  {
   "cell_type": "code",
   "execution_count": 13,
   "metadata": {},
   "outputs": [
    {
     "data": {
      "text/html": [
       "\n",
       "\n",
       "\n",
       "\n",
       "\n",
       "\n",
       "  <div class=\"bk-root\" id=\"c902ac2e-1e67-43e3-a090-65928d789175\" data-root-id=\"2086\"></div>\n"
      ]
     },
     "metadata": {},
     "output_type": "display_data"
    },
    {
     "data": {
      "application/javascript": [
       "(function(root) {\n",
       "  function embed_document(root) {\n",
       "    \n",
       "  var docs_json = {\"f0240cb7-b257-4c2e-b090-c2b2324eb06f\":{\"roots\":{\"references\":[{\"attributes\":{\"below\":[{\"id\":\"2095\",\"type\":\"LinearAxis\"}],\"center\":[{\"id\":\"2099\",\"type\":\"Grid\"},{\"id\":\"2104\",\"type\":\"Grid\"}],\"left\":[{\"id\":\"2100\",\"type\":\"LinearAxis\"}],\"plot_height\":400,\"plot_width\":400,\"renderers\":[{\"id\":\"2121\",\"type\":\"GlyphRenderer\"}],\"title\":{\"id\":\"2196\",\"type\":\"Title\"},\"toolbar\":{\"id\":\"2111\",\"type\":\"Toolbar\"},\"x_range\":{\"id\":\"2087\",\"type\":\"DataRange1d\"},\"x_scale\":{\"id\":\"2091\",\"type\":\"LinearScale\"},\"y_range\":{\"id\":\"2089\",\"type\":\"DataRange1d\"},\"y_scale\":{\"id\":\"2093\",\"type\":\"LinearScale\"}},\"id\":\"2086\",\"subtype\":\"Figure\",\"type\":\"Plot\"},{\"attributes\":{},\"id\":\"2106\",\"type\":\"WheelZoomTool\"},{\"attributes\":{},\"id\":\"2109\",\"type\":\"ResetTool\"},{\"attributes\":{\"callback\":null},\"id\":\"2087\",\"type\":\"DataRange1d\"},{\"attributes\":{\"callback\":null,\"data\":{\"x\":[1,2,3,4,5],\"y\":[2,5,8,2,7]},\"selected\":{\"id\":\"2203\",\"type\":\"Selection\"},\"selection_policy\":{\"id\":\"2202\",\"type\":\"UnionRenderers\"}},\"id\":\"2118\",\"type\":\"ColumnDataSource\"},{\"attributes\":{\"dimension\":1,\"ticker\":{\"id\":\"2101\",\"type\":\"BasicTicker\"}},\"id\":\"2104\",\"type\":\"Grid\"},{\"attributes\":{},\"id\":\"2110\",\"type\":\"HelpTool\"},{\"attributes\":{\"active_drag\":\"auto\",\"active_inspect\":\"auto\",\"active_multi\":null,\"active_scroll\":\"auto\",\"active_tap\":\"auto\",\"tools\":[{\"id\":\"2105\",\"type\":\"PanTool\"},{\"id\":\"2106\",\"type\":\"WheelZoomTool\"},{\"id\":\"2107\",\"type\":\"BoxZoomTool\"},{\"id\":\"2108\",\"type\":\"SaveTool\"},{\"id\":\"2109\",\"type\":\"ResetTool\"},{\"id\":\"2110\",\"type\":\"HelpTool\"}]},\"id\":\"2111\",\"type\":\"Toolbar\"},{\"attributes\":{\"callback\":null},\"id\":\"2089\",\"type\":\"DataRange1d\"},{\"attributes\":{\"overlay\":{\"id\":\"2201\",\"type\":\"BoxAnnotation\"}},\"id\":\"2107\",\"type\":\"BoxZoomTool\"},{\"attributes\":{},\"id\":\"2091\",\"type\":\"LinearScale\"},{\"attributes\":{\"text\":\"\"},\"id\":\"2196\",\"type\":\"Title\"},{\"attributes\":{},\"id\":\"2093\",\"type\":\"LinearScale\"},{\"attributes\":{\"formatter\":{\"id\":\"2198\",\"type\":\"BasicTickFormatter\"},\"ticker\":{\"id\":\"2096\",\"type\":\"BasicTicker\"}},\"id\":\"2095\",\"type\":\"LinearAxis\"},{\"attributes\":{},\"id\":\"2096\",\"type\":\"BasicTicker\"},{\"attributes\":{},\"id\":\"2198\",\"type\":\"BasicTickFormatter\"},{\"attributes\":{},\"id\":\"2200\",\"type\":\"BasicTickFormatter\"},{\"attributes\":{},\"id\":\"2101\",\"type\":\"BasicTicker\"},{\"attributes\":{\"bottom_units\":\"screen\",\"fill_alpha\":{\"value\":0.5},\"fill_color\":{\"value\":\"lightgrey\"},\"left_units\":\"screen\",\"level\":\"overlay\",\"line_alpha\":{\"value\":1.0},\"line_color\":{\"value\":\"black\"},\"line_dash\":[4,4],\"line_width\":{\"value\":2},\"render_mode\":\"css\",\"right_units\":\"screen\",\"top_units\":\"screen\"},\"id\":\"2201\",\"type\":\"BoxAnnotation\"},{\"attributes\":{},\"id\":\"2202\",\"type\":\"UnionRenderers\"},{\"attributes\":{\"fill_alpha\":{\"value\":0.2},\"fill_color\":{\"value\":\"#1f77b4\"},\"line_color\":{\"value\":\"firebrick\"},\"line_dash\":[5,100],\"line_width\":{\"value\":20},\"size\":{\"units\":\"screen\",\"value\":50},\"x\":{\"field\":\"x\"},\"y\":{\"field\":\"y\"}},\"id\":\"2119\",\"type\":\"Circle\"},{\"attributes\":{\"ticker\":{\"id\":\"2096\",\"type\":\"BasicTicker\"}},\"id\":\"2099\",\"type\":\"Grid\"},{\"attributes\":{\"data_source\":{\"id\":\"2118\",\"type\":\"ColumnDataSource\"},\"glyph\":{\"id\":\"2119\",\"type\":\"Circle\"},\"hover_glyph\":null,\"muted_glyph\":null,\"nonselection_glyph\":{\"id\":\"2120\",\"type\":\"Circle\"},\"selection_glyph\":null,\"view\":{\"id\":\"2122\",\"type\":\"CDSView\"}},\"id\":\"2121\",\"type\":\"GlyphRenderer\"},{\"attributes\":{},\"id\":\"2203\",\"type\":\"Selection\"},{\"attributes\":{\"source\":{\"id\":\"2118\",\"type\":\"ColumnDataSource\"}},\"id\":\"2122\",\"type\":\"CDSView\"},{\"attributes\":{},\"id\":\"2105\",\"type\":\"PanTool\"},{\"attributes\":{\"fill_alpha\":{\"value\":0.1},\"fill_color\":{\"value\":\"#1f77b4\"},\"line_alpha\":{\"value\":0.1},\"line_color\":{\"value\":\"#1f77b4\"},\"x\":{\"field\":\"x\"},\"y\":{\"field\":\"y\"}},\"id\":\"2120\",\"type\":\"Circle\"},{\"attributes\":{\"formatter\":{\"id\":\"2200\",\"type\":\"BasicTickFormatter\"},\"ticker\":{\"id\":\"2101\",\"type\":\"BasicTicker\"}},\"id\":\"2100\",\"type\":\"LinearAxis\"},{\"attributes\":{},\"id\":\"2108\",\"type\":\"SaveTool\"}],\"root_ids\":[\"2086\"]},\"title\":\"Bokeh Application\",\"version\":\"1.3.4\"}};\n",
       "  var render_items = [{\"docid\":\"f0240cb7-b257-4c2e-b090-c2b2324eb06f\",\"roots\":{\"2086\":\"c902ac2e-1e67-43e3-a090-65928d789175\"}}];\n",
       "  root.Bokeh.embed.embed_items_notebook(docs_json, render_items);\n",
       "\n",
       "  }\n",
       "  if (root.Bokeh !== undefined) {\n",
       "    embed_document(root);\n",
       "  } else {\n",
       "    var attempts = 0;\n",
       "    var timer = setInterval(function(root) {\n",
       "      if (root.Bokeh !== undefined) {\n",
       "        embed_document(root);\n",
       "        clearInterval(timer);\n",
       "      }\n",
       "      attempts++;\n",
       "      if (attempts > 100) {\n",
       "        console.log(\"Bokeh: ERROR: Unable to run BokehJS code because BokehJS library is missing\");\n",
       "        clearInterval(timer);\n",
       "      }\n",
       "    }, 10, root)\n",
       "  }\n",
       "})(window);"
      ],
      "application/vnd.bokehjs_exec.v0+json": ""
     },
     "metadata": {
      "application/vnd.bokehjs_exec.v0+json": {
       "id": "2086"
      }
     },
     "output_type": "display_data"
    }
   ],
   "source": [
    "p = figure(plot_width=400, plot_height=400)\n",
    "\n",
    "# keep a reference to the returned GlyphRenderer\n",
    "r = p.circle([1,2,3,4,5], [2,5,8,2,7])\n",
    "\n",
    "r.glyph.size = 50\n",
    "r.glyph.fill_alpha = 0.2\n",
    "r.glyph.line_color = \"firebrick\"\n",
    "r.glyph.line_dash = [5, 100]\n",
    "r.glyph.line_width = 20\n",
    "\n",
    "show(p)"
   ]
  },
  {
   "cell_type": "markdown",
   "metadata": {},
   "source": [
    "### Selection and non-selection visuals\n",
    "\n",
    "You can also control how glyphs look when there are selections involved. The set of \"selected\" points is displayed according to the optional `.selection_glyph` property of a `GlyphRenderer`:\n",
    "```python\n",
    "r.selection_glyph = Circle(fill_alpha=1, fill_color=\"firebrick\", line_color=None) \n",
    "```\n",
    "When there is a non-empty selection, the set of \"unselected: points is displayed according to the optional  `.nonselection_glyph` property of a `GlyphRenderer`:\n",
    "```python\n",
    "r.nonselection_glyph = Circle(fill_alpha=0.2, fill_color=\"grey\", line_color=None) \n",
    "```\n",
    "\n",
    "When using the `bokeh.plotting` interface, it is easier to pass these visual properties to the glyph methods as shown below. The glyph method will create the selection or nonselection glyphs and attach them to the renderer for you. "
   ]
  },
  {
   "cell_type": "code",
   "execution_count": 14,
   "metadata": {},
   "outputs": [
    {
     "data": {
      "text/html": [
       "\n",
       "\n",
       "\n",
       "\n",
       "\n",
       "\n",
       "  <div class=\"bk-root\" id=\"05bbe9d6-b0fb-4e52-bf38-55e3fb6fad26\" data-root-id=\"2258\"></div>\n"
      ]
     },
     "metadata": {},
     "output_type": "display_data"
    },
    {
     "data": {
      "application/javascript": [
       "(function(root) {\n",
       "  function embed_document(root) {\n",
       "    \n",
       "  var docs_json = {\"5c909ede-55d1-4701-a161-da8b1e7d7273\":{\"roots\":{\"references\":[{\"attributes\":{\"below\":[{\"id\":\"2269\",\"type\":\"LinearAxis\"}],\"center\":[{\"id\":\"2273\",\"type\":\"Grid\"},{\"id\":\"2278\",\"type\":\"Grid\"}],\"left\":[{\"id\":\"2274\",\"type\":\"LinearAxis\"}],\"plot_height\":400,\"plot_width\":400,\"renderers\":[{\"id\":\"2286\",\"type\":\"GlyphRenderer\"}],\"title\":{\"id\":\"2259\",\"type\":\"Title\"},\"toolbar\":{\"id\":\"2280\",\"type\":\"Toolbar\"},\"x_range\":{\"id\":\"2261\",\"type\":\"DataRange1d\"},\"x_scale\":{\"id\":\"2265\",\"type\":\"LinearScale\"},\"y_range\":{\"id\":\"2263\",\"type\":\"DataRange1d\"},\"y_scale\":{\"id\":\"2267\",\"type\":\"LinearScale\"}},\"id\":\"2258\",\"subtype\":\"Figure\",\"type\":\"Plot\"},{\"attributes\":{\"fill_color\":{\"value\":\"#1f77b4\"},\"line_color\":{\"value\":\"#1f77b4\"},\"size\":{\"units\":\"screen\",\"value\":50},\"x\":{\"field\":\"x\"},\"y\":{\"field\":\"y\"}},\"id\":\"2283\",\"type\":\"Circle\"},{\"attributes\":{\"callback\":null},\"id\":\"2279\",\"type\":\"TapTool\"},{\"attributes\":{\"text\":\"Select a circle\"},\"id\":\"2259\",\"type\":\"Title\"},{\"attributes\":{\"callback\":null},\"id\":\"2263\",\"type\":\"DataRange1d\"},{\"attributes\":{\"active_drag\":\"auto\",\"active_inspect\":\"auto\",\"active_multi\":null,\"active_scroll\":\"auto\",\"active_tap\":\"auto\",\"tools\":[{\"id\":\"2279\",\"type\":\"TapTool\"}]},\"id\":\"2280\",\"type\":\"Toolbar\"},{\"attributes\":{\"callback\":null,\"data\":{\"x\":[1,2,3,4,5],\"y\":[2,5,8,2,7]},\"selected\":{\"id\":\"2375\",\"type\":\"Selection\"},\"selection_policy\":{\"id\":\"2374\",\"type\":\"UnionRenderers\"}},\"id\":\"2282\",\"type\":\"ColumnDataSource\"},{\"attributes\":{},\"id\":\"2275\",\"type\":\"BasicTicker\"},{\"attributes\":{\"dimension\":1,\"ticker\":{\"id\":\"2275\",\"type\":\"BasicTicker\"}},\"id\":\"2278\",\"type\":\"Grid\"},{\"attributes\":{},\"id\":\"2265\",\"type\":\"LinearScale\"},{\"attributes\":{\"formatter\":{\"id\":\"2373\",\"type\":\"BasicTickFormatter\"},\"ticker\":{\"id\":\"2275\",\"type\":\"BasicTicker\"}},\"id\":\"2274\",\"type\":\"LinearAxis\"},{\"attributes\":{\"ticker\":{\"id\":\"2270\",\"type\":\"BasicTicker\"}},\"id\":\"2273\",\"type\":\"Grid\"},{\"attributes\":{},\"id\":\"2270\",\"type\":\"BasicTicker\"},{\"attributes\":{\"callback\":null},\"id\":\"2261\",\"type\":\"DataRange1d\"},{\"attributes\":{\"formatter\":{\"id\":\"2371\",\"type\":\"BasicTickFormatter\"},\"ticker\":{\"id\":\"2270\",\"type\":\"BasicTicker\"}},\"id\":\"2269\",\"type\":\"LinearAxis\"},{\"attributes\":{},\"id\":\"2267\",\"type\":\"LinearScale\"},{\"attributes\":{},\"id\":\"2374\",\"type\":\"UnionRenderers\"},{\"attributes\":{},\"id\":\"2373\",\"type\":\"BasicTickFormatter\"},{\"attributes\":{\"source\":{\"id\":\"2282\",\"type\":\"ColumnDataSource\"}},\"id\":\"2287\",\"type\":\"CDSView\"},{\"attributes\":{},\"id\":\"2371\",\"type\":\"BasicTickFormatter\"},{\"attributes\":{},\"id\":\"2375\",\"type\":\"Selection\"},{\"attributes\":{\"fill_color\":{\"value\":\"firebrick\"},\"line_color\":{\"value\":\"firebrick\"},\"size\":{\"units\":\"screen\",\"value\":50},\"x\":{\"field\":\"x\"},\"y\":{\"field\":\"y\"}},\"id\":\"2285\",\"type\":\"Circle\"},{\"attributes\":{\"data_source\":{\"id\":\"2282\",\"type\":\"ColumnDataSource\"},\"glyph\":{\"id\":\"2283\",\"type\":\"Circle\"},\"hover_glyph\":null,\"muted_glyph\":null,\"nonselection_glyph\":{\"id\":\"2284\",\"type\":\"Circle\"},\"selection_glyph\":{\"id\":\"2285\",\"type\":\"Circle\"},\"view\":{\"id\":\"2287\",\"type\":\"CDSView\"}},\"id\":\"2286\",\"type\":\"GlyphRenderer\"},{\"attributes\":{\"fill_alpha\":{\"value\":0.2},\"fill_color\":{\"value\":\"grey\"},\"line_color\":{\"value\":\"firebrick\"},\"size\":{\"units\":\"screen\",\"value\":50},\"x\":{\"field\":\"x\"},\"y\":{\"field\":\"y\"}},\"id\":\"2284\",\"type\":\"Circle\"}],\"root_ids\":[\"2258\"]},\"title\":\"Bokeh Application\",\"version\":\"1.3.4\"}};\n",
       "  var render_items = [{\"docid\":\"5c909ede-55d1-4701-a161-da8b1e7d7273\",\"roots\":{\"2258\":\"05bbe9d6-b0fb-4e52-bf38-55e3fb6fad26\"}}];\n",
       "  root.Bokeh.embed.embed_items_notebook(docs_json, render_items);\n",
       "\n",
       "  }\n",
       "  if (root.Bokeh !== undefined) {\n",
       "    embed_document(root);\n",
       "  } else {\n",
       "    var attempts = 0;\n",
       "    var timer = setInterval(function(root) {\n",
       "      if (root.Bokeh !== undefined) {\n",
       "        embed_document(root);\n",
       "        clearInterval(timer);\n",
       "      }\n",
       "      attempts++;\n",
       "      if (attempts > 100) {\n",
       "        console.log(\"Bokeh: ERROR: Unable to run BokehJS code because BokehJS library is missing\");\n",
       "        clearInterval(timer);\n",
       "      }\n",
       "    }, 10, root)\n",
       "  }\n",
       "})(window);"
      ],
      "application/vnd.bokehjs_exec.v0+json": ""
     },
     "metadata": {
      "application/vnd.bokehjs_exec.v0+json": {
       "id": "2258"
      }
     },
     "output_type": "display_data"
    }
   ],
   "source": [
    "p = figure(plot_width=400, plot_height=400, tools=\"tap\", title=\"Select a circle\")\n",
    "renderer = p.circle([1, 2, 3, 4, 5], [2, 5, 8, 2, 7], size=50,\n",
    "\n",
    "                    # set visual properties for selected glyphs\n",
    "                    selection_color=\"firebrick\",\n",
    "\n",
    "                    # set visual properties for non-selected glyphs\n",
    "                    nonselection_fill_alpha=0.2,\n",
    "                    nonselection_fill_color=\"grey\",\n",
    "                    nonselection_line_color=\"firebrick\",\n",
    "                    nonselection_line_alpha=1.0)\n",
    "\n",
    "show(p)"
   ]
  },
  {
   "cell_type": "markdown",
   "metadata": {},
   "source": [
    "It is also possible to specify the visual appearance of glyphs when they are \"inspected\", e.g. by a hover tool. This is accomplished by setting an optional `hover_glyph` on the glyph renderer:\n",
    "```python\n",
    "r.hover_glyph = Circle(fill_alpha=1, fill_color=\"firebrick\", line_color=None) \n",
    "```\n",
    "Or if using `bokeh.plotting` glyph methods, by passing `hover_fill_alpha`, etc. to the glyph method. Lets look at an example that works together with a `HoverTool` configured for \"hline\" hit-testing."
   ]
  },
  {
   "cell_type": "code",
   "execution_count": 15,
   "metadata": {},
   "outputs": [
    {
     "data": {
      "text/html": [
       "\n",
       "\n",
       "\n",
       "\n",
       "\n",
       "\n",
       "  <div class=\"bk-root\" id=\"ce25ec76-a923-41ac-8c2e-73cf0e614d6a\" data-root-id=\"2418\"></div>\n"
      ]
     },
     "metadata": {},
     "output_type": "display_data"
    },
    {
     "data": {
      "application/javascript": [
       "(function(root) {\n",
       "  function embed_document(root) {\n",
       "    \n",
       "  var docs_json = {\"1498ce4a-a3bf-47bb-bdb5-b579e3e43887\":{\"roots\":{\"references\":[{\"attributes\":{\"below\":[{\"id\":\"2429\",\"type\":\"DatetimeAxis\"}],\"center\":[{\"id\":\"2433\",\"type\":\"Grid\"},{\"id\":\"2438\",\"type\":\"Grid\"}],\"left\":[{\"id\":\"2434\",\"type\":\"LinearAxis\"}],\"plot_height\":300,\"renderers\":[{\"id\":\"2455\",\"type\":\"GlyphRenderer\"},{\"id\":\"2461\",\"type\":\"GlyphRenderer\"}],\"title\":{\"id\":\"2419\",\"type\":\"Title\"},\"toolbar\":{\"id\":\"2445\",\"type\":\"Toolbar\"},\"x_range\":{\"id\":\"2421\",\"type\":\"DataRange1d\"},\"x_scale\":{\"id\":\"2425\",\"type\":\"LinearScale\"},\"y_range\":{\"id\":\"2423\",\"type\":\"DataRange1d\"},\"y_scale\":{\"id\":\"2427\",\"type\":\"LinearScale\"}},\"id\":\"2418\",\"subtype\":\"Figure\",\"type\":\"Plot\"},{\"attributes\":{\"callback\":null,\"data\":{\"x\":{\"__ndarray__\":\"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\",\"dtype\":\"float64\",\"shape\":[288]},\"y\":[143,147,150,152,152,152,154,155,142,140,138,134,131,130,128,127,126,126,126,126,127,129,131,132,134,136,136,136,136,135,134,132,130,130,130,129,128,127,125,124,123,123,122,121,120,118,115,112,111,111,110,110,109,108,107,107,107,108,107,105,105,105,105,104,103,102,99,97,96,94,94,93,93,92,91,92,94,95,96,97,99,102,104,112,112,112,111,110,107,104,105,105,103,99,96,94,95,102,114,128,144,160,173,185,196,205,209,214,219,226,234,241,248,255,260,265,268,270,272,271,271,268,265,261,256,253,250,246,244,241,237,233,229,225,222,204,200,197,193,190,186,182,179,175,171,168,164,158,154,151,148,145,141,133,139,152,173,196,217,233,244,249,250,253,256,260,263,265,265,264,260,254,246,234,217,200,188,181,175,169,164,159,154,147,138,132,129,127,123,117,111,106,104,103,100,94,88,83,78,75,73,71,69,68,67,67,68,70,71,71,70,69,68,67,67,67,66,67,69,71,74,76,78,80,80,80,80,80,80,82,84,87,90,92,87,87,86,86,86,86,87,87,87,85,83,82,83,87,95,107,118,130,141,149,172,179,187,201,214,221,225,230,232,230,223,216,208,199,191,185,181,177,176,177,176,173,171,169,163,154,152,153,154,154,153,151,150,150]},\"selected\":{\"id\":\"2574\",\"type\":\"Selection\"},\"selection_policy\":{\"id\":\"2573\",\"type\":\"UnionRenderers\"}},\"id\":\"2457\",\"type\":\"ColumnDataSource\"},{\"attributes\":{\"bottom_units\":\"screen\",\"fill_alpha\":{\"value\":0.5},\"fill_color\":{\"value\":\"lightgrey\"},\"left_units\":\"screen\",\"level\":\"overlay\",\"line_alpha\":{\"value\":1.0},\"line_color\":{\"value\":\"black\"},\"line_dash\":[4,4],\"line_width\":{\"value\":2},\"render_mode\":\"css\",\"right_units\":\"screen\",\"top_units\":\"screen\"},\"id\":\"2558\",\"type\":\"BoxAnnotation\"},{\"attributes\":{},\"id\":\"2439\",\"type\":\"PanTool\"},{\"attributes\":{\"mantissas\":[1,2,5],\"max_interval\":500.0,\"num_minor_ticks\":0},\"id\":\"2559\",\"type\":\"AdaptiveTicker\"},{\"attributes\":{},\"id\":\"2440\",\"type\":\"WheelZoomTool\"},{\"attributes\":{\"ticker\":{\"id\":\"2430\",\"type\":\"DatetimeTicker\"}},\"id\":\"2433\",\"type\":\"Grid\"},{\"attributes\":{},\"id\":\"2574\",\"type\":\"Selection\"},{\"attributes\":{\"text\":\"Hover over points\"},\"id\":\"2419\",\"type\":\"Title\"},{\"attributes\":{\"overlay\":{\"id\":\"2558\",\"type\":\"BoxAnnotation\"}},\"id\":\"2441\",\"type\":\"BoxZoomTool\"},{\"attributes\":{\"base\":60,\"mantissas\":[1,2,5,10,15,20,30],\"max_interval\":1800000.0,\"min_interval\":1000.0,\"num_minor_ticks\":0},\"id\":\"2560\",\"type\":\"AdaptiveTicker\"},{\"attributes\":{\"base\":24,\"mantissas\":[1,2,4,6,8,12],\"max_interval\":43200000.0,\"min_interval\":3600000.0,\"num_minor_ticks\":0},\"id\":\"2561\",\"type\":\"AdaptiveTicker\"},{\"attributes\":{},\"id\":\"2442\",\"type\":\"SaveTool\"},{\"attributes\":{\"days\":[1,2,3,4,5,6,7,8,9,10,11,12,13,14,15,16,17,18,19,20,21,22,23,24,25,26,27,28,29,30,31]},\"id\":\"2562\",\"type\":\"DaysTicker\"},{\"attributes\":{},\"id\":\"2443\",\"type\":\"ResetTool\"},{\"attributes\":{\"callback\":null},\"id\":\"2421\",\"type\":\"DataRange1d\"},{\"attributes\":{},\"id\":\"2444\",\"type\":\"HelpTool\"},{\"attributes\":{\"line_color\":\"gray\",\"line_dash\":[4,4],\"x\":{\"field\":\"x\"},\"y\":{\"field\":\"y\"}},\"id\":\"2453\",\"type\":\"Line\"},{\"attributes\":{\"days\":[1,4,7,10,13,16,19,22,25,28]},\"id\":\"2563\",\"type\":\"DaysTicker\"},{\"attributes\":{\"callback\":null},\"id\":\"2423\",\"type\":\"DataRange1d\"},{\"attributes\":{\"active_drag\":\"auto\",\"active_inspect\":\"auto\",\"active_multi\":null,\"active_scroll\":\"auto\",\"active_tap\":\"auto\",\"tools\":[{\"id\":\"2439\",\"type\":\"PanTool\"},{\"id\":\"2440\",\"type\":\"WheelZoomTool\"},{\"id\":\"2441\",\"type\":\"BoxZoomTool\"},{\"id\":\"2442\",\"type\":\"SaveTool\"},{\"id\":\"2443\",\"type\":\"ResetTool\"},{\"id\":\"2444\",\"type\":\"HelpTool\"},{\"id\":\"2463\",\"type\":\"HoverTool\"}]},\"id\":\"2445\",\"type\":\"Toolbar\"},{\"attributes\":{\"days\":[1,8,15,22]},\"id\":\"2564\",\"type\":\"DaysTicker\"},{\"attributes\":{\"source\":{\"id\":\"2452\",\"type\":\"ColumnDataSource\"}},\"id\":\"2456\",\"type\":\"CDSView\"},{\"attributes\":{\"days\":[1,15]},\"id\":\"2565\",\"type\":\"DaysTicker\"},{\"attributes\":{\"callback\":null,\"data\":{\"x\":{\"__ndarray__\":\"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\",\"dtype\":\"float64\",\"shape\":[288]},\"y\":[143,147,150,152,152,152,154,155,142,140,138,134,131,130,128,127,126,126,126,126,127,129,131,132,134,136,136,136,136,135,134,132,130,130,130,129,128,127,125,124,123,123,122,121,120,118,115,112,111,111,110,110,109,108,107,107,107,108,107,105,105,105,105,104,103,102,99,97,96,94,94,93,93,92,91,92,94,95,96,97,99,102,104,112,112,112,111,110,107,104,105,105,103,99,96,94,95,102,114,128,144,160,173,185,196,205,209,214,219,226,234,241,248,255,260,265,268,270,272,271,271,268,265,261,256,253,250,246,244,241,237,233,229,225,222,204,200,197,193,190,186,182,179,175,171,168,164,158,154,151,148,145,141,133,139,152,173,196,217,233,244,249,250,253,256,260,263,265,265,264,260,254,246,234,217,200,188,181,175,169,164,159,154,147,138,132,129,127,123,117,111,106,104,103,100,94,88,83,78,75,73,71,69,68,67,67,68,70,71,71,70,69,68,67,67,67,66,67,69,71,74,76,78,80,80,80,80,80,80,82,84,87,90,92,87,87,86,86,86,86,87,87,87,85,83,82,83,87,95,107,118,130,141,149,172,179,187,201,214,221,225,230,232,230,223,216,208,199,191,185,181,177,176,177,176,173,171,169,163,154,152,153,154,154,153,151,150,150]},\"selected\":{\"id\":\"2572\",\"type\":\"Selection\"},\"selection_policy\":{\"id\":\"2571\",\"type\":\"UnionRenderers\"}},\"id\":\"2452\",\"type\":\"ColumnDataSource\"},{\"attributes\":{\"months\":[0,1,2,3,4,5,6,7,8,9,10,11]},\"id\":\"2566\",\"type\":\"MonthsTicker\"},{\"attributes\":{\"callback\":null,\"mode\":\"hline\",\"renderers\":[{\"id\":\"2461\",\"type\":\"GlyphRenderer\"}],\"tooltips\":null},\"id\":\"2463\",\"type\":\"HoverTool\"},{\"attributes\":{},\"id\":\"2427\",\"type\":\"LinearScale\"},{\"attributes\":{\"fill_alpha\":{\"value\":0.05},\"fill_color\":{\"value\":\"grey\"},\"line_color\":{\"value\":null},\"size\":{\"units\":\"screen\",\"value\":20},\"x\":{\"field\":\"x\"},\"y\":{\"field\":\"y\"}},\"id\":\"2458\",\"type\":\"Circle\"},{\"attributes\":{\"months\":[0,2,4,6,8,10]},\"id\":\"2567\",\"type\":\"MonthsTicker\"},{\"attributes\":{\"line_alpha\":0.1,\"line_color\":\"#1f77b4\",\"line_dash\":[4,4],\"x\":{\"field\":\"x\"},\"y\":{\"field\":\"y\"}},\"id\":\"2454\",\"type\":\"Line\"},{\"attributes\":{},\"id\":\"2425\",\"type\":\"LinearScale\"},{\"attributes\":{\"fill_alpha\":{\"value\":0.1},\"fill_color\":{\"value\":\"#1f77b4\"},\"line_alpha\":{\"value\":0.1},\"line_color\":{\"value\":\"#1f77b4\"},\"size\":{\"units\":\"screen\",\"value\":20},\"x\":{\"field\":\"x\"},\"y\":{\"field\":\"y\"}},\"id\":\"2459\",\"type\":\"Circle\"},{\"attributes\":{\"months\":[0,4,8]},\"id\":\"2568\",\"type\":\"MonthsTicker\"},{\"attributes\":{\"formatter\":{\"id\":\"2555\",\"type\":\"DatetimeTickFormatter\"},\"ticker\":{\"id\":\"2430\",\"type\":\"DatetimeTicker\"}},\"id\":\"2429\",\"type\":\"DatetimeAxis\"},{\"attributes\":{\"fill_alpha\":{\"value\":0.3},\"fill_color\":{\"value\":\"firebrick\"},\"line_alpha\":{\"value\":0.3},\"line_color\":{\"value\":\"white\"},\"size\":{\"units\":\"screen\",\"value\":20},\"x\":{\"field\":\"x\"},\"y\":{\"field\":\"y\"}},\"id\":\"2460\",\"type\":\"Circle\"},{\"attributes\":{\"months\":[0,6]},\"id\":\"2569\",\"type\":\"MonthsTicker\"},{\"attributes\":{\"num_minor_ticks\":5,\"tickers\":[{\"id\":\"2559\",\"type\":\"AdaptiveTicker\"},{\"id\":\"2560\",\"type\":\"AdaptiveTicker\"},{\"id\":\"2561\",\"type\":\"AdaptiveTicker\"},{\"id\":\"2562\",\"type\":\"DaysTicker\"},{\"id\":\"2563\",\"type\":\"DaysTicker\"},{\"id\":\"2564\",\"type\":\"DaysTicker\"},{\"id\":\"2565\",\"type\":\"DaysTicker\"},{\"id\":\"2566\",\"type\":\"MonthsTicker\"},{\"id\":\"2567\",\"type\":\"MonthsTicker\"},{\"id\":\"2568\",\"type\":\"MonthsTicker\"},{\"id\":\"2569\",\"type\":\"MonthsTicker\"},{\"id\":\"2570\",\"type\":\"YearsTicker\"}]},\"id\":\"2430\",\"type\":\"DatetimeTicker\"},{\"attributes\":{\"data_source\":{\"id\":\"2457\",\"type\":\"ColumnDataSource\"},\"glyph\":{\"id\":\"2458\",\"type\":\"Circle\"},\"hover_glyph\":{\"id\":\"2460\",\"type\":\"Circle\"},\"muted_glyph\":null,\"nonselection_glyph\":{\"id\":\"2459\",\"type\":\"Circle\"},\"selection_glyph\":null,\"view\":{\"id\":\"2462\",\"type\":\"CDSView\"}},\"id\":\"2461\",\"type\":\"GlyphRenderer\"},{\"attributes\":{},\"id\":\"2570\",\"type\":\"YearsTicker\"},{\"attributes\":{\"source\":{\"id\":\"2457\",\"type\":\"ColumnDataSource\"}},\"id\":\"2462\",\"type\":\"CDSView\"},{\"attributes\":{\"formatter\":{\"id\":\"2557\",\"type\":\"BasicTickFormatter\"},\"ticker\":{\"id\":\"2435\",\"type\":\"BasicTicker\"}},\"id\":\"2434\",\"type\":\"LinearAxis\"},{\"attributes\":{},\"id\":\"2571\",\"type\":\"UnionRenderers\"},{\"attributes\":{},\"id\":\"2435\",\"type\":\"BasicTicker\"},{\"attributes\":{},\"id\":\"2572\",\"type\":\"Selection\"},{\"attributes\":{\"dimension\":1,\"ticker\":{\"id\":\"2435\",\"type\":\"BasicTicker\"}},\"id\":\"2438\",\"type\":\"Grid\"},{\"attributes\":{},\"id\":\"2555\",\"type\":\"DatetimeTickFormatter\"},{\"attributes\":{},\"id\":\"2573\",\"type\":\"UnionRenderers\"},{\"attributes\":{\"data_source\":{\"id\":\"2452\",\"type\":\"ColumnDataSource\"},\"glyph\":{\"id\":\"2453\",\"type\":\"Line\"},\"hover_glyph\":null,\"muted_glyph\":null,\"nonselection_glyph\":{\"id\":\"2454\",\"type\":\"Line\"},\"selection_glyph\":null,\"view\":{\"id\":\"2456\",\"type\":\"CDSView\"}},\"id\":\"2455\",\"type\":\"GlyphRenderer\"},{\"attributes\":{},\"id\":\"2557\",\"type\":\"BasicTickFormatter\"}],\"root_ids\":[\"2418\"]},\"title\":\"Bokeh Application\",\"version\":\"1.3.4\"}};\n",
       "  var render_items = [{\"docid\":\"1498ce4a-a3bf-47bb-bdb5-b579e3e43887\",\"roots\":{\"2418\":\"ce25ec76-a923-41ac-8c2e-73cf0e614d6a\"}}];\n",
       "  root.Bokeh.embed.embed_items_notebook(docs_json, render_items);\n",
       "\n",
       "  }\n",
       "  if (root.Bokeh !== undefined) {\n",
       "    embed_document(root);\n",
       "  } else {\n",
       "    var attempts = 0;\n",
       "    var timer = setInterval(function(root) {\n",
       "      if (root.Bokeh !== undefined) {\n",
       "        embed_document(root);\n",
       "        clearInterval(timer);\n",
       "      }\n",
       "      attempts++;\n",
       "      if (attempts > 100) {\n",
       "        console.log(\"Bokeh: ERROR: Unable to run BokehJS code because BokehJS library is missing\");\n",
       "        clearInterval(timer);\n",
       "      }\n",
       "    }, 10, root)\n",
       "  }\n",
       "})(window);"
      ],
      "application/vnd.bokehjs_exec.v0+json": ""
     },
     "metadata": {
      "application/vnd.bokehjs_exec.v0+json": {
       "id": "2418"
      }
     },
     "output_type": "display_data"
    }
   ],
   "source": [
    "from bokeh.models.tools import HoverTool\n",
    "from bokeh.sampledata.glucose import data\n",
    "\n",
    "subset = data.loc['2010-10-06']\n",
    "\n",
    "x, y = subset.index.to_series(), subset['glucose']\n",
    "\n",
    "# Basic plot setup\n",
    "p = figure(width=600, height=300, x_axis_type=\"datetime\", title='Hover over points')\n",
    "\n",
    "p.line(x, y, line_dash=\"4 4\", line_width=1, color='gray')\n",
    "\n",
    "cr = p.circle(x, y, size=20,\n",
    "              fill_color=\"grey\", hover_fill_color=\"firebrick\",\n",
    "              fill_alpha=0.05, hover_alpha=0.3,\n",
    "              line_color=None, hover_line_color=\"white\")\n",
    "\n",
    "p.add_tools(HoverTool(tooltips=None, renderers=[cr], mode='hline'))\n",
    "\n",
    "show(p)"
   ]
  },
  {
   "cell_type": "code",
   "execution_count": 27,
   "metadata": {},
   "outputs": [
    {
     "data": {
      "text/html": [
       "\n",
       "\n",
       "\n",
       "\n",
       "\n",
       "\n",
       "  <div class=\"bk-root\" id=\"30953889-e1b7-4cdc-a54f-2f73f4291d90\" data-root-id=\"7338\"></div>\n"
      ]
     },
     "metadata": {},
     "output_type": "display_data"
    },
    {
     "data": {
      "application/javascript": [
       "(function(root) {\n",
       "  function embed_document(root) {\n",
       "    \n",
       "  var docs_json = {\"c63a4ebd-4868-4c17-9a0a-c53fd3552410\":{\"roots\":{\"references\":[{\"attributes\":{\"below\":[{\"id\":\"7349\",\"type\":\"DatetimeAxis\"}],\"center\":[{\"id\":\"7353\",\"type\":\"Grid\"},{\"id\":\"7358\",\"type\":\"Grid\"}],\"left\":[{\"id\":\"7354\",\"type\":\"LinearAxis\"}],\"plot_height\":300,\"renderers\":[{\"id\":\"7375\",\"type\":\"GlyphRenderer\"},{\"id\":\"7381\",\"type\":\"GlyphRenderer\"}],\"title\":{\"id\":\"7339\",\"type\":\"Title\"},\"toolbar\":{\"id\":\"7365\",\"type\":\"Toolbar\"},\"x_range\":{\"id\":\"7341\",\"type\":\"DataRange1d\"},\"x_scale\":{\"id\":\"7345\",\"type\":\"LinearScale\"},\"y_range\":{\"id\":\"7343\",\"type\":\"DataRange1d\"},\"y_scale\":{\"id\":\"7347\",\"type\":\"LinearScale\"}},\"id\":\"7338\",\"subtype\":\"Figure\",\"type\":\"Plot\"},{\"attributes\":{},\"id\":\"7758\",\"type\":\"Selection\"},{\"attributes\":{\"source\":{\"id\":\"7377\",\"type\":\"ColumnDataSource\"}},\"id\":\"7382\",\"type\":\"CDSView\"},{\"attributes\":{},\"id\":\"7345\",\"type\":\"LinearScale\"},{\"attributes\":{\"callback\":null},\"id\":\"7343\",\"type\":\"DataRange1d\"},{\"attributes\":{\"fill_alpha\":{\"value\":0.3},\"fill_color\":{\"value\":\"firebrick\"},\"line_alpha\":{\"value\":0.3},\"line_color\":{\"value\":\"navy\"},\"size\":{\"units\":\"screen\",\"value\":20},\"x\":{\"field\":\"x\"},\"y\":{\"field\":\"y\"}},\"id\":\"7380\",\"type\":\"Circle\"},{\"attributes\":{\"callback\":null},\"id\":\"7341\",\"type\":\"DataRange1d\"},{\"attributes\":{},\"id\":\"7364\",\"type\":\"HelpTool\"},{\"attributes\":{\"formatter\":{\"id\":\"7739\",\"type\":\"DatetimeTickFormatter\"},\"ticker\":{\"id\":\"7350\",\"type\":\"DatetimeTicker\"}},\"id\":\"7349\",\"type\":\"DatetimeAxis\"},{\"attributes\":{\"data_source\":{\"id\":\"7372\",\"type\":\"ColumnDataSource\"},\"glyph\":{\"id\":\"7373\",\"type\":\"Line\"},\"hover_glyph\":null,\"muted_glyph\":null,\"nonselection_glyph\":{\"id\":\"7374\",\"type\":\"Line\"},\"selection_glyph\":null,\"view\":{\"id\":\"7376\",\"type\":\"CDSView\"}},\"id\":\"7375\",\"type\":\"GlyphRenderer\"},{\"attributes\":{\"base\":60,\"mantissas\":[1,2,5,10,15,20,30],\"max_interval\":1800000.0,\"min_interval\":1000.0,\"num_minor_ticks\":0},\"id\":\"7744\",\"type\":\"AdaptiveTicker\"},{\"attributes\":{},\"id\":\"7347\",\"type\":\"LinearScale\"},{\"attributes\":{\"base\":24,\"mantissas\":[1,2,4,6,8,12],\"max_interval\":43200000.0,\"min_interval\":3600000.0,\"num_minor_ticks\":0},\"id\":\"7745\",\"type\":\"AdaptiveTicker\"},{\"attributes\":{\"callback\":null,\"data\":{\"x\":{\"__ndarray__\":\"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\",\"dtype\":\"float64\",\"shape\":[288]},\"y\":[143,147,150,152,152,152,154,155,142,140,138,134,131,130,128,127,126,126,126,126,127,129,131,132,134,136,136,136,136,135,134,132,130,130,130,129,128,127,125,124,123,123,122,121,120,118,115,112,111,111,110,110,109,108,107,107,107,108,107,105,105,105,105,104,103,102,99,97,96,94,94,93,93,92,91,92,94,95,96,97,99,102,104,112,112,112,111,110,107,104,105,105,103,99,96,94,95,102,114,128,144,160,173,185,196,205,209,214,219,226,234,241,248,255,260,265,268,270,272,271,271,268,265,261,256,253,250,246,244,241,237,233,229,225,222,204,200,197,193,190,186,182,179,175,171,168,164,158,154,151,148,145,141,133,139,152,173,196,217,233,244,249,250,253,256,260,263,265,265,264,260,254,246,234,217,200,188,181,175,169,164,159,154,147,138,132,129,127,123,117,111,106,104,103,100,94,88,83,78,75,73,71,69,68,67,67,68,70,71,71,70,69,68,67,67,67,66,67,69,71,74,76,78,80,80,80,80,80,80,82,84,87,90,92,87,87,86,86,86,86,87,87,87,85,83,82,83,87,95,107,118,130,141,149,172,179,187,201,214,221,225,230,232,230,223,216,208,199,191,185,181,177,176,177,176,173,171,169,163,154,152,153,154,154,153,151,150,150]},\"selected\":{\"id\":\"7758\",\"type\":\"Selection\"},\"selection_policy\":{\"id\":\"7757\",\"type\":\"UnionRenderers\"}},\"id\":\"7377\",\"type\":\"ColumnDataSource\"},{\"attributes\":{\"data_source\":{\"id\":\"7377\",\"type\":\"ColumnDataSource\"},\"glyph\":{\"id\":\"7378\",\"type\":\"Circle\"},\"hover_glyph\":{\"id\":\"7380\",\"type\":\"Circle\"},\"muted_glyph\":null,\"nonselection_glyph\":{\"id\":\"7379\",\"type\":\"Circle\"},\"selection_glyph\":null,\"view\":{\"id\":\"7382\",\"type\":\"CDSView\"}},\"id\":\"7381\",\"type\":\"GlyphRenderer\"},{\"attributes\":{},\"id\":\"7739\",\"type\":\"DatetimeTickFormatter\"},{\"attributes\":{},\"id\":\"7757\",\"type\":\"UnionRenderers\"},{\"attributes\":{\"days\":[1,2,3,4,5,6,7,8,9,10,11,12,13,14,15,16,17,18,19,20,21,22,23,24,25,26,27,28,29,30,31]},\"id\":\"7746\",\"type\":\"DaysTicker\"},{\"attributes\":{\"ticker\":{\"id\":\"7350\",\"type\":\"DatetimeTicker\"}},\"id\":\"7353\",\"type\":\"Grid\"},{\"attributes\":{\"callback\":null,\"mode\":\"hline\",\"renderers\":[{\"id\":\"7381\",\"type\":\"GlyphRenderer\"}],\"tooltips\":null},\"id\":\"7383\",\"type\":\"HoverTool\"},{\"attributes\":{\"days\":[1,4,7,10,13,16,19,22,25,28]},\"id\":\"7747\",\"type\":\"DaysTicker\"},{\"attributes\":{\"formatter\":{\"id\":\"7741\",\"type\":\"BasicTickFormatter\"},\"ticker\":{\"id\":\"7355\",\"type\":\"BasicTicker\"}},\"id\":\"7354\",\"type\":\"LinearAxis\"},{\"attributes\":{\"text\":\"Hover over points\"},\"id\":\"7339\",\"type\":\"Title\"},{\"attributes\":{\"days\":[1,8,15,22]},\"id\":\"7748\",\"type\":\"DaysTicker\"},{\"attributes\":{},\"id\":\"7355\",\"type\":\"BasicTicker\"},{\"attributes\":{\"callback\":null,\"data\":{\"x\":{\"__ndarray__\":\"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\",\"dtype\":\"float64\",\"shape\":[288]},\"y\":[143,147,150,152,152,152,154,155,142,140,138,134,131,130,128,127,126,126,126,126,127,129,131,132,134,136,136,136,136,135,134,132,130,130,130,129,128,127,125,124,123,123,122,121,120,118,115,112,111,111,110,110,109,108,107,107,107,108,107,105,105,105,105,104,103,102,99,97,96,94,94,93,93,92,91,92,94,95,96,97,99,102,104,112,112,112,111,110,107,104,105,105,103,99,96,94,95,102,114,128,144,160,173,185,196,205,209,214,219,226,234,241,248,255,260,265,268,270,272,271,271,268,265,261,256,253,250,246,244,241,237,233,229,225,222,204,200,197,193,190,186,182,179,175,171,168,164,158,154,151,148,145,141,133,139,152,173,196,217,233,244,249,250,253,256,260,263,265,265,264,260,254,246,234,217,200,188,181,175,169,164,159,154,147,138,132,129,127,123,117,111,106,104,103,100,94,88,83,78,75,73,71,69,68,67,67,68,70,71,71,70,69,68,67,67,67,66,67,69,71,74,76,78,80,80,80,80,80,80,82,84,87,90,92,87,87,86,86,86,86,87,87,87,85,83,82,83,87,95,107,118,130,141,149,172,179,187,201,214,221,225,230,232,230,223,216,208,199,191,185,181,177,176,177,176,173,171,169,163,154,152,153,154,154,153,151,150,150]},\"selected\":{\"id\":\"7756\",\"type\":\"Selection\"},\"selection_policy\":{\"id\":\"7755\",\"type\":\"UnionRenderers\"}},\"id\":\"7372\",\"type\":\"ColumnDataSource\"},{\"attributes\":{\"fill_alpha\":{\"value\":0.05},\"fill_color\":{\"value\":\"grey\"},\"line_color\":{\"value\":null},\"size\":{\"units\":\"screen\",\"value\":20},\"x\":{\"field\":\"x\"},\"y\":{\"field\":\"y\"}},\"id\":\"7378\",\"type\":\"Circle\"},{\"attributes\":{\"days\":[1,15]},\"id\":\"7749\",\"type\":\"DaysTicker\"},{\"attributes\":{\"source\":{\"id\":\"7372\",\"type\":\"ColumnDataSource\"}},\"id\":\"7376\",\"type\":\"CDSView\"},{\"attributes\":{\"months\":[0,1,2,3,4,5,6,7,8,9,10,11]},\"id\":\"7750\",\"type\":\"MonthsTicker\"},{\"attributes\":{},\"id\":\"7360\",\"type\":\"WheelZoomTool\"},{\"attributes\":{\"bottom_units\":\"screen\",\"fill_alpha\":{\"value\":0.5},\"fill_color\":{\"value\":\"lightgrey\"},\"left_units\":\"screen\",\"level\":\"overlay\",\"line_alpha\":{\"value\":1.0},\"line_color\":{\"value\":\"black\"},\"line_dash\":[4,4],\"line_width\":{\"value\":2},\"render_mode\":\"css\",\"right_units\":\"screen\",\"top_units\":\"screen\"},\"id\":\"7742\",\"type\":\"BoxAnnotation\"},{\"attributes\":{\"line_alpha\":0.1,\"line_color\":\"#1f77b4\",\"line_dash\":[15,20],\"line_width\":7,\"x\":{\"field\":\"x\"},\"y\":{\"field\":\"y\"}},\"id\":\"7374\",\"type\":\"Line\"},{\"attributes\":{\"months\":[0,2,4,6,8,10]},\"id\":\"7751\",\"type\":\"MonthsTicker\"},{\"attributes\":{\"mantissas\":[1,2,5],\"max_interval\":500.0,\"num_minor_ticks\":0},\"id\":\"7743\",\"type\":\"AdaptiveTicker\"},{\"attributes\":{\"num_minor_ticks\":5,\"tickers\":[{\"id\":\"7743\",\"type\":\"AdaptiveTicker\"},{\"id\":\"7744\",\"type\":\"AdaptiveTicker\"},{\"id\":\"7745\",\"type\":\"AdaptiveTicker\"},{\"id\":\"7746\",\"type\":\"DaysTicker\"},{\"id\":\"7747\",\"type\":\"DaysTicker\"},{\"id\":\"7748\",\"type\":\"DaysTicker\"},{\"id\":\"7749\",\"type\":\"DaysTicker\"},{\"id\":\"7750\",\"type\":\"MonthsTicker\"},{\"id\":\"7751\",\"type\":\"MonthsTicker\"},{\"id\":\"7752\",\"type\":\"MonthsTicker\"},{\"id\":\"7753\",\"type\":\"MonthsTicker\"},{\"id\":\"7754\",\"type\":\"YearsTicker\"}]},\"id\":\"7350\",\"type\":\"DatetimeTicker\"},{\"attributes\":{\"months\":[0,4,8]},\"id\":\"7752\",\"type\":\"MonthsTicker\"},{\"attributes\":{\"line_color\":\"gray\",\"line_dash\":[15,20],\"line_width\":7,\"x\":{\"field\":\"x\"},\"y\":{\"field\":\"y\"}},\"id\":\"7373\",\"type\":\"Line\"},{\"attributes\":{\"months\":[0,6]},\"id\":\"7753\",\"type\":\"MonthsTicker\"},{\"attributes\":{},\"id\":\"7359\",\"type\":\"PanTool\"},{\"attributes\":{},\"id\":\"7754\",\"type\":\"YearsTicker\"},{\"attributes\":{},\"id\":\"7362\",\"type\":\"SaveTool\"},{\"attributes\":{},\"id\":\"7755\",\"type\":\"UnionRenderers\"},{\"attributes\":{\"overlay\":{\"id\":\"7742\",\"type\":\"BoxAnnotation\"}},\"id\":\"7361\",\"type\":\"BoxZoomTool\"},{\"attributes\":{},\"id\":\"7756\",\"type\":\"Selection\"},{\"attributes\":{},\"id\":\"7363\",\"type\":\"ResetTool\"},{\"attributes\":{\"fill_alpha\":{\"value\":0.1},\"fill_color\":{\"value\":\"#1f77b4\"},\"line_alpha\":{\"value\":0.1},\"line_color\":{\"value\":\"#1f77b4\"},\"size\":{\"units\":\"screen\",\"value\":20},\"x\":{\"field\":\"x\"},\"y\":{\"field\":\"y\"}},\"id\":\"7379\",\"type\":\"Circle\"},{\"attributes\":{\"active_drag\":\"auto\",\"active_inspect\":\"auto\",\"active_multi\":null,\"active_scroll\":\"auto\",\"active_tap\":\"auto\",\"tools\":[{\"id\":\"7359\",\"type\":\"PanTool\"},{\"id\":\"7360\",\"type\":\"WheelZoomTool\"},{\"id\":\"7361\",\"type\":\"BoxZoomTool\"},{\"id\":\"7362\",\"type\":\"SaveTool\"},{\"id\":\"7363\",\"type\":\"ResetTool\"},{\"id\":\"7364\",\"type\":\"HelpTool\"},{\"id\":\"7383\",\"type\":\"HoverTool\"}]},\"id\":\"7365\",\"type\":\"Toolbar\"},{\"attributes\":{\"dimension\":1,\"ticker\":{\"id\":\"7355\",\"type\":\"BasicTicker\"}},\"id\":\"7358\",\"type\":\"Grid\"},{\"attributes\":{},\"id\":\"7741\",\"type\":\"BasicTickFormatter\"}],\"root_ids\":[\"7338\"]},\"title\":\"Bokeh Application\",\"version\":\"1.3.4\"}};\n",
       "  var render_items = [{\"docid\":\"c63a4ebd-4868-4c17-9a0a-c53fd3552410\",\"roots\":{\"7338\":\"30953889-e1b7-4cdc-a54f-2f73f4291d90\"}}];\n",
       "  root.Bokeh.embed.embed_items_notebook(docs_json, render_items);\n",
       "\n",
       "  }\n",
       "  if (root.Bokeh !== undefined) {\n",
       "    embed_document(root);\n",
       "  } else {\n",
       "    var attempts = 0;\n",
       "    var timer = setInterval(function(root) {\n",
       "      if (root.Bokeh !== undefined) {\n",
       "        embed_document(root);\n",
       "        clearInterval(timer);\n",
       "      }\n",
       "      attempts++;\n",
       "      if (attempts > 100) {\n",
       "        console.log(\"Bokeh: ERROR: Unable to run BokehJS code because BokehJS library is missing\");\n",
       "        clearInterval(timer);\n",
       "      }\n",
       "    }, 10, root)\n",
       "  }\n",
       "})(window);"
      ],
      "application/vnd.bokehjs_exec.v0+json": ""
     },
     "metadata": {
      "application/vnd.bokehjs_exec.v0+json": {
       "id": "7338"
      }
     },
     "output_type": "display_data"
    }
   ],
   "source": [
    "# EXERCISE: experiment with standard, selected, hover glyph visual properties\n",
    "from bokeh.models.tools import HoverTool\n",
    "from bokeh.sampledata.glucose import data\n",
    "\n",
    "subset = data.loc['2010-10-06']\n",
    "\n",
    "x, y = subset.index.to_series(), subset['glucose']\n",
    "\n",
    "# Basic plot setup\n",
    "p = figure(width=600, height=300, x_axis_type=\"datetime\", title='Hover over points')\n",
    "\n",
    "p.line(x, y, line_dash=\"15 20\", line_width=7, color='gray')\n",
    "\n",
    "cr = p.circle(x, y, size=20,\n",
    "              fill_color=\"grey\", hover_fill_color=\"firebrick\",\n",
    "              fill_alpha=0.05, hover_alpha=0.3,\n",
    "              line_color=None, hover_line_color=\"navy\")\n",
    "\n",
    "p.add_tools(HoverTool(tooltips=None, renderers=[cr], mode='hline'))\n",
    "\n",
    "show(p)"
   ]
  },
  {
   "cell_type": "markdown",
   "metadata": {},
   "source": [
    "# Axes\n",
    "\n",
    "Next we will take a look at [stlying of Axes](http://bokeh.pydata.org/en/latest/docs/user_guide/styling.html#axes).\n",
    "\n",
    "To style axes, you first must get ahold of `Axis` objects. The simplest way is to use some convenience methods on `Plot`: [axis](http://bokeh.pydata.org/en/latest/docs/reference/plotting.html#bokeh.plotting.Figure.axis), [xaxis](http://bokeh.pydata.org/en/latest/docs/reference/plotting.html#bokeh.plotting.Figure.xaxis), and [yaxis](http://bokeh.pydata.org/en/latest/docs/reference/plotting.html#bokeh.plotting.Figure.yaxis). These methods return lists of axis objects:\n",
    "\n",
    "```\n",
    ">>> p.xaxis\n",
    "[<bokeh.models.axes.LinearAxis at 0x106fa2390>]\n",
    "```\n",
    "However, you can set properties on all the elements of the list as if it was a single object:\n",
    "```\n",
    "p.xaxis.axis_label = \"Temperature\"\n",
    "p.axis.major_label_text_color = \"orange\"\n",
    "```\n",
    "These are referred to as \"splattable\" lists, and tab completion works on them as well. \n"
   ]
  },
  {
   "cell_type": "code",
   "execution_count": 9,
   "metadata": {},
   "outputs": [],
   "source": [
    "# EXERCISE Try out tab completion. Type p.xaxis.<press tab key> to see a list of attributes that can be set.\n",
    "#la complétion ne marche pas !? Oo\n",
    "\n"
   ]
  },
  {
   "cell_type": "markdown",
   "metadata": {},
   "source": [
    "## Axis properties\n",
    "\n",
    "Axes objects have many configurable properties that afford control over most visual aspects of an axis. These can be grouped by function according to prefix:\n",
    "\n",
    "* **axis**  [line properties](http://bokeh.pydata.org/en/latest/docs/user_guide/styling.html#line-properties) e.g `axis_line_width`\n",
    "\n",
    "* **axis_label** [text properties](http://bokeh.pydata.org/en/latest/docs/user_guide/styling.html#text-properties)  e.g. `axis_label_text_color`, as well as ``axis_label_standoff``\n",
    "\n",
    "* **major_label** [text properties](http://bokeh.pydata.org/en/latest/docs/user_guide/styling.html#text-properties) e.g. `major_label_text_font_size`, as well as ``major_label_orientation``\n",
    "\n",
    "* **major_tick** [line_properties](http://bokeh.pydata.org/en/latest/docs/user_guide/styling.html#line-properties) e.g. `major_tick_line_dash`, as well as  ``major_tick_in`` and ``major_tick_out``\n",
    "\n",
    "* **minor_tick** [line properties](http://bokeh.pydata.org/en/latest/docs/user_guide/styling.html#line-properties) e.g. `minor_tick_line_width`, as well as ``minor_tick_in`` and ``minor_tick_out``\n",
    "\n",
    "As a simple first case, let's change the orientation of the major tick labels on both axes of a plot:"
   ]
  },
  {
   "cell_type": "code",
   "execution_count": 28,
   "metadata": {},
   "outputs": [
    {
     "data": {
      "text/html": [
       "\n",
       "\n",
       "\n",
       "\n",
       "\n",
       "\n",
       "  <div class=\"bk-root\" id=\"b1f292cd-8986-491b-8b17-23a969d90f2f\" data-root-id=\"7891\"></div>\n"
      ]
     },
     "metadata": {},
     "output_type": "display_data"
    },
    {
     "data": {
      "application/javascript": [
       "(function(root) {\n",
       "  function embed_document(root) {\n",
       "    \n",
       "  var docs_json = {\"9a082e18-c8db-4072-89d7-80b13b4d10dc\":{\"roots\":{\"references\":[{\"attributes\":{\"below\":[{\"id\":\"7900\",\"type\":\"LinearAxis\"}],\"center\":[{\"id\":\"7904\",\"type\":\"Grid\"},{\"id\":\"7909\",\"type\":\"Grid\"}],\"left\":[{\"id\":\"7905\",\"type\":\"LinearAxis\"}],\"plot_height\":400,\"plot_width\":400,\"renderers\":[{\"id\":\"7926\",\"type\":\"GlyphRenderer\"}],\"title\":{\"id\":\"8303\",\"type\":\"Title\"},\"toolbar\":{\"id\":\"7916\",\"type\":\"Toolbar\"},\"x_range\":{\"id\":\"7892\",\"type\":\"DataRange1d\"},\"x_scale\":{\"id\":\"7896\",\"type\":\"LinearScale\"},\"y_range\":{\"id\":\"7894\",\"type\":\"DataRange1d\"},\"y_scale\":{\"id\":\"7898\",\"type\":\"LinearScale\"}},\"id\":\"7891\",\"subtype\":\"Figure\",\"type\":\"Plot\"},{\"attributes\":{},\"id\":\"7896\",\"type\":\"LinearScale\"},{\"attributes\":{},\"id\":\"7898\",\"type\":\"LinearScale\"},{\"attributes\":{\"formatter\":{\"id\":\"8305\",\"type\":\"BasicTickFormatter\"},\"major_label_orientation\":0.7853981633974483,\"ticker\":{\"id\":\"7901\",\"type\":\"BasicTicker\"}},\"id\":\"7900\",\"type\":\"LinearAxis\"},{\"attributes\":{\"callback\":null},\"id\":\"7892\",\"type\":\"DataRange1d\"},{\"attributes\":{},\"id\":\"7901\",\"type\":\"BasicTicker\"},{\"attributes\":{\"ticker\":{\"id\":\"7901\",\"type\":\"BasicTicker\"}},\"id\":\"7904\",\"type\":\"Grid\"},{\"attributes\":{\"bottom_units\":\"screen\",\"fill_alpha\":{\"value\":0.5},\"fill_color\":{\"value\":\"lightgrey\"},\"left_units\":\"screen\",\"level\":\"overlay\",\"line_alpha\":{\"value\":1.0},\"line_color\":{\"value\":\"black\"},\"line_dash\":[4,4],\"line_width\":{\"value\":2},\"render_mode\":\"css\",\"right_units\":\"screen\",\"top_units\":\"screen\"},\"id\":\"8308\",\"type\":\"BoxAnnotation\"},{\"attributes\":{},\"id\":\"7906\",\"type\":\"BasicTicker\"},{\"attributes\":{\"dimension\":1,\"ticker\":{\"id\":\"7906\",\"type\":\"BasicTicker\"}},\"id\":\"7909\",\"type\":\"Grid\"},{\"attributes\":{\"source\":{\"id\":\"7923\",\"type\":\"ColumnDataSource\"}},\"id\":\"7927\",\"type\":\"CDSView\"},{\"attributes\":{\"fill_alpha\":{\"value\":0.1},\"fill_color\":{\"value\":\"#1f77b4\"},\"line_alpha\":{\"value\":0.1},\"line_color\":{\"value\":\"#1f77b4\"},\"line_width\":{\"value\":2},\"size\":{\"units\":\"screen\",\"value\":10},\"x\":{\"field\":\"x\"},\"y\":{\"field\":\"y\"}},\"id\":\"7925\",\"type\":\"X\"},{\"attributes\":{\"fill_color\":{\"value\":\"#1f77b4\"},\"line_color\":{\"value\":\"#1f77b4\"},\"line_width\":{\"value\":2},\"size\":{\"units\":\"screen\",\"value\":10},\"x\":{\"field\":\"x\"},\"y\":{\"field\":\"y\"}},\"id\":\"7924\",\"type\":\"X\"},{\"attributes\":{},\"id\":\"7910\",\"type\":\"PanTool\"},{\"attributes\":{},\"id\":\"7911\",\"type\":\"WheelZoomTool\"},{\"attributes\":{\"callback\":null},\"id\":\"7894\",\"type\":\"DataRange1d\"},{\"attributes\":{},\"id\":\"8305\",\"type\":\"BasicTickFormatter\"},{\"attributes\":{\"overlay\":{\"id\":\"8308\",\"type\":\"BoxAnnotation\"}},\"id\":\"7912\",\"type\":\"BoxZoomTool\"},{\"attributes\":{\"callback\":null,\"data\":{\"x\":[1,2,3,4,5],\"y\":[2,5,8,2,7]},\"selected\":{\"id\":\"8310\",\"type\":\"Selection\"},\"selection_policy\":{\"id\":\"8309\",\"type\":\"UnionRenderers\"}},\"id\":\"7923\",\"type\":\"ColumnDataSource\"},{\"attributes\":{},\"id\":\"7913\",\"type\":\"SaveTool\"},{\"attributes\":{},\"id\":\"8310\",\"type\":\"Selection\"},{\"attributes\":{},\"id\":\"8309\",\"type\":\"UnionRenderers\"},{\"attributes\":{},\"id\":\"7914\",\"type\":\"ResetTool\"},{\"attributes\":{},\"id\":\"7915\",\"type\":\"HelpTool\"},{\"attributes\":{\"active_drag\":\"auto\",\"active_inspect\":\"auto\",\"active_multi\":null,\"active_scroll\":\"auto\",\"active_tap\":\"auto\",\"tools\":[{\"id\":\"7910\",\"type\":\"PanTool\"},{\"id\":\"7911\",\"type\":\"WheelZoomTool\"},{\"id\":\"7912\",\"type\":\"BoxZoomTool\"},{\"id\":\"7913\",\"type\":\"SaveTool\"},{\"id\":\"7914\",\"type\":\"ResetTool\"},{\"id\":\"7915\",\"type\":\"HelpTool\"}]},\"id\":\"7916\",\"type\":\"Toolbar\"},{\"attributes\":{\"formatter\":{\"id\":\"8307\",\"type\":\"BasicTickFormatter\"},\"major_label_orientation\":\"vertical\",\"ticker\":{\"id\":\"7906\",\"type\":\"BasicTicker\"}},\"id\":\"7905\",\"type\":\"LinearAxis\"},{\"attributes\":{\"text\":\"\"},\"id\":\"8303\",\"type\":\"Title\"},{\"attributes\":{\"data_source\":{\"id\":\"7923\",\"type\":\"ColumnDataSource\"},\"glyph\":{\"id\":\"7924\",\"type\":\"X\"},\"hover_glyph\":null,\"muted_glyph\":null,\"nonselection_glyph\":{\"id\":\"7925\",\"type\":\"X\"},\"selection_glyph\":null,\"view\":{\"id\":\"7927\",\"type\":\"CDSView\"}},\"id\":\"7926\",\"type\":\"GlyphRenderer\"},{\"attributes\":{},\"id\":\"8307\",\"type\":\"BasicTickFormatter\"}],\"root_ids\":[\"7891\"]},\"title\":\"Bokeh Application\",\"version\":\"1.3.4\"}};\n",
       "  var render_items = [{\"docid\":\"9a082e18-c8db-4072-89d7-80b13b4d10dc\",\"roots\":{\"7891\":\"b1f292cd-8986-491b-8b17-23a969d90f2f\"}}];\n",
       "  root.Bokeh.embed.embed_items_notebook(docs_json, render_items);\n",
       "\n",
       "  }\n",
       "  if (root.Bokeh !== undefined) {\n",
       "    embed_document(root);\n",
       "  } else {\n",
       "    var attempts = 0;\n",
       "    var timer = setInterval(function(root) {\n",
       "      if (root.Bokeh !== undefined) {\n",
       "        embed_document(root);\n",
       "        clearInterval(timer);\n",
       "      }\n",
       "      attempts++;\n",
       "      if (attempts > 100) {\n",
       "        console.log(\"Bokeh: ERROR: Unable to run BokehJS code because BokehJS library is missing\");\n",
       "        clearInterval(timer);\n",
       "      }\n",
       "    }, 10, root)\n",
       "  }\n",
       "})(window);"
      ],
      "application/vnd.bokehjs_exec.v0+json": ""
     },
     "metadata": {
      "application/vnd.bokehjs_exec.v0+json": {
       "id": "7891"
      }
     },
     "output_type": "display_data"
    }
   ],
   "source": [
    "from math import pi\n",
    "\n",
    "p = figure(plot_width=400, plot_height=400)\n",
    "p.x([1,2,3,4,5], [2,5,8,2,7], size=10, line_width=2)\n",
    "\n",
    "p.xaxis.major_label_orientation = pi/4\n",
    "p.yaxis.major_label_orientation = \"vertical\"\n",
    "\n",
    "show(p)"
   ]
  },
  {
   "cell_type": "markdown",
   "metadata": {},
   "source": [
    "The next example shows customizations on several of the different Axis properties at once:"
   ]
  },
  {
   "cell_type": "code",
   "execution_count": 29,
   "metadata": {},
   "outputs": [
    {
     "data": {
      "text/html": [
       "\n",
       "\n",
       "\n",
       "\n",
       "\n",
       "\n",
       "  <div class=\"bk-root\" id=\"d5bfe1af-babe-4136-9b60-1a6f8286a0a1\" data-root-id=\"8365\"></div>\n"
      ]
     },
     "metadata": {},
     "output_type": "display_data"
    },
    {
     "data": {
      "application/javascript": [
       "(function(root) {\n",
       "  function embed_document(root) {\n",
       "    \n",
       "  var docs_json = {\"ec36df74-ca1e-403a-890b-676ba79ece18\":{\"roots\":{\"references\":[{\"attributes\":{\"below\":[{\"id\":\"8374\",\"type\":\"LinearAxis\"}],\"center\":[{\"id\":\"8378\",\"type\":\"Grid\"},{\"id\":\"8383\",\"type\":\"Grid\"}],\"left\":[{\"id\":\"8379\",\"type\":\"LinearAxis\"}],\"plot_height\":400,\"plot_width\":400,\"renderers\":[{\"id\":\"8400\",\"type\":\"GlyphRenderer\"}],\"title\":{\"id\":\"8786\",\"type\":\"Title\"},\"toolbar\":{\"id\":\"8390\",\"type\":\"Toolbar\"},\"x_range\":{\"id\":\"8366\",\"type\":\"DataRange1d\"},\"x_scale\":{\"id\":\"8370\",\"type\":\"LinearScale\"},\"y_range\":{\"id\":\"8368\",\"type\":\"DataRange1d\"},\"y_scale\":{\"id\":\"8372\",\"type\":\"LinearScale\"}},\"id\":\"8365\",\"subtype\":\"Figure\",\"type\":\"Plot\"},{\"attributes\":{},\"id\":\"8792\",\"type\":\"UnionRenderers\"},{\"attributes\":{},\"id\":\"8375\",\"type\":\"BasicTicker\"},{\"attributes\":{},\"id\":\"8384\",\"type\":\"PanTool\"},{\"attributes\":{},\"id\":\"8793\",\"type\":\"Selection\"},{\"attributes\":{\"callback\":null},\"id\":\"8366\",\"type\":\"DataRange1d\"},{\"attributes\":{},\"id\":\"8788\",\"type\":\"BasicTickFormatter\"},{\"attributes\":{\"fill_alpha\":{\"value\":0.1},\"fill_color\":{\"value\":\"#1f77b4\"},\"line_alpha\":{\"value\":0.1},\"line_color\":{\"value\":\"#1f77b4\"},\"size\":{\"units\":\"screen\",\"value\":12},\"x\":{\"field\":\"x\"},\"y\":{\"field\":\"y\"}},\"id\":\"8399\",\"type\":\"Asterisk\"},{\"attributes\":{\"ticker\":{\"id\":\"8375\",\"type\":\"BasicTicker\"}},\"id\":\"8378\",\"type\":\"Grid\"},{\"attributes\":{},\"id\":\"8385\",\"type\":\"WheelZoomTool\"},{\"attributes\":{},\"id\":\"8790\",\"type\":\"BasicTickFormatter\"},{\"attributes\":{\"dimension\":1,\"ticker\":{\"id\":\"8380\",\"type\":\"BasicTicker\"}},\"id\":\"8383\",\"type\":\"Grid\"},{\"attributes\":{},\"id\":\"8370\",\"type\":\"LinearScale\"},{\"attributes\":{\"axis_label\":\"Temp\",\"axis_line_color\":{\"value\":\"red\"},\"axis_line_width\":{\"value\":3},\"formatter\":{\"id\":\"8788\",\"type\":\"BasicTickFormatter\"},\"minor_tick_in\":-3,\"minor_tick_out\":6,\"ticker\":{\"id\":\"8375\",\"type\":\"BasicTicker\"}},\"id\":\"8374\",\"type\":\"LinearAxis\"},{\"attributes\":{\"callback\":null,\"data\":{\"x\":[1,2,3,4,5],\"y\":[2,5,8,2,7]},\"selected\":{\"id\":\"8793\",\"type\":\"Selection\"},\"selection_policy\":{\"id\":\"8792\",\"type\":\"UnionRenderers\"}},\"id\":\"8397\",\"type\":\"ColumnDataSource\"},{\"attributes\":{\"active_drag\":\"auto\",\"active_inspect\":\"auto\",\"active_multi\":null,\"active_scroll\":\"auto\",\"active_tap\":\"auto\",\"tools\":[{\"id\":\"8384\",\"type\":\"PanTool\"},{\"id\":\"8385\",\"type\":\"WheelZoomTool\"},{\"id\":\"8386\",\"type\":\"BoxZoomTool\"},{\"id\":\"8387\",\"type\":\"SaveTool\"},{\"id\":\"8388\",\"type\":\"ResetTool\"},{\"id\":\"8389\",\"type\":\"HelpTool\"}]},\"id\":\"8390\",\"type\":\"Toolbar\"},{\"attributes\":{\"source\":{\"id\":\"8397\",\"type\":\"ColumnDataSource\"}},\"id\":\"8401\",\"type\":\"CDSView\"},{\"attributes\":{},\"id\":\"8388\",\"type\":\"ResetTool\"},{\"attributes\":{\"overlay\":{\"id\":\"8791\",\"type\":\"BoxAnnotation\"}},\"id\":\"8386\",\"type\":\"BoxZoomTool\"},{\"attributes\":{\"text\":\"\"},\"id\":\"8786\",\"type\":\"Title\"},{\"attributes\":{\"callback\":null},\"id\":\"8368\",\"type\":\"DataRange1d\"},{\"attributes\":{},\"id\":\"8387\",\"type\":\"SaveTool\"},{\"attributes\":{\"data_source\":{\"id\":\"8397\",\"type\":\"ColumnDataSource\"},\"glyph\":{\"id\":\"8398\",\"type\":\"Asterisk\"},\"hover_glyph\":null,\"muted_glyph\":null,\"nonselection_glyph\":{\"id\":\"8399\",\"type\":\"Asterisk\"},\"selection_glyph\":null,\"view\":{\"id\":\"8401\",\"type\":\"CDSView\"}},\"id\":\"8400\",\"type\":\"GlyphRenderer\"},{\"attributes\":{\"bottom_units\":\"screen\",\"fill_alpha\":{\"value\":0.5},\"fill_color\":{\"value\":\"lightgrey\"},\"left_units\":\"screen\",\"level\":\"overlay\",\"line_alpha\":{\"value\":1.0},\"line_color\":{\"value\":\"black\"},\"line_dash\":[4,4],\"line_width\":{\"value\":2},\"render_mode\":\"css\",\"right_units\":\"screen\",\"top_units\":\"screen\"},\"id\":\"8791\",\"type\":\"BoxAnnotation\"},{\"attributes\":{},\"id\":\"8389\",\"type\":\"HelpTool\"},{\"attributes\":{},\"id\":\"8372\",\"type\":\"LinearScale\"},{\"attributes\":{},\"id\":\"8380\",\"type\":\"BasicTicker\"},{\"attributes\":{\"axis_label\":\"Pressure\",\"formatter\":{\"id\":\"8790\",\"type\":\"BasicTickFormatter\"},\"major_label_orientation\":\"vertical\",\"major_label_text_color\":{\"value\":\"orange\"},\"minor_tick_in\":-3,\"minor_tick_out\":6,\"ticker\":{\"id\":\"8380\",\"type\":\"BasicTicker\"}},\"id\":\"8379\",\"type\":\"LinearAxis\"},{\"attributes\":{\"fill_color\":{\"value\":\"olive\"},\"line_color\":{\"value\":\"olive\"},\"size\":{\"units\":\"screen\",\"value\":12},\"x\":{\"field\":\"x\"},\"y\":{\"field\":\"y\"}},\"id\":\"8398\",\"type\":\"Asterisk\"}],\"root_ids\":[\"8365\"]},\"title\":\"Bokeh Application\",\"version\":\"1.3.4\"}};\n",
       "  var render_items = [{\"docid\":\"ec36df74-ca1e-403a-890b-676ba79ece18\",\"roots\":{\"8365\":\"d5bfe1af-babe-4136-9b60-1a6f8286a0a1\"}}];\n",
       "  root.Bokeh.embed.embed_items_notebook(docs_json, render_items);\n",
       "\n",
       "  }\n",
       "  if (root.Bokeh !== undefined) {\n",
       "    embed_document(root);\n",
       "  } else {\n",
       "    var attempts = 0;\n",
       "    var timer = setInterval(function(root) {\n",
       "      if (root.Bokeh !== undefined) {\n",
       "        embed_document(root);\n",
       "        clearInterval(timer);\n",
       "      }\n",
       "      attempts++;\n",
       "      if (attempts > 100) {\n",
       "        console.log(\"Bokeh: ERROR: Unable to run BokehJS code because BokehJS library is missing\");\n",
       "        clearInterval(timer);\n",
       "      }\n",
       "    }, 10, root)\n",
       "  }\n",
       "})(window);"
      ],
      "application/vnd.bokehjs_exec.v0+json": ""
     },
     "metadata": {
      "application/vnd.bokehjs_exec.v0+json": {
       "id": "8365"
      }
     },
     "output_type": "display_data"
    }
   ],
   "source": [
    "p = figure(plot_width=400, plot_height=400)\n",
    "p.asterisk([1,2,3,4,5], [2,5,8,2,7], size=12, color=\"olive\")\n",
    "\n",
    "# change just some things about the x-axes\n",
    "p.xaxis.axis_label = \"Temp\"\n",
    "p.xaxis.axis_line_width = 3\n",
    "p.xaxis.axis_line_color = \"red\"\n",
    "\n",
    "# change just some things about the y-axes\n",
    "p.yaxis.axis_label = \"Pressure\"\n",
    "p.yaxis.major_label_text_color = \"orange\"\n",
    "p.yaxis.major_label_orientation = \"vertical\"\n",
    "\n",
    "# change things on all axes\n",
    "p.axis.minor_tick_in = -3\n",
    "p.axis.minor_tick_out = 6\n",
    "\n",
    "show(p)"
   ]
  },
  {
   "cell_type": "code",
   "execution_count": 35,
   "metadata": {},
   "outputs": [
    {
     "data": {
      "text/html": [
       "\n",
       "\n",
       "\n",
       "\n",
       "\n",
       "\n",
       "  <div class=\"bk-root\" id=\"4f9cdd77-458c-4072-a8ec-a938c2537041\" data-root-id=\"10902\"></div>\n"
      ]
     },
     "metadata": {},
     "output_type": "display_data"
    },
    {
     "data": {
      "application/javascript": [
       "(function(root) {\n",
       "  function embed_document(root) {\n",
       "    \n",
       "  var docs_json = {\"266ea511-7862-49ab-a863-55cfa8136a2c\":{\"roots\":{\"references\":[{\"attributes\":{\"below\":[{\"id\":\"10911\",\"type\":\"LinearAxis\"}],\"center\":[{\"id\":\"10915\",\"type\":\"Grid\"},{\"id\":\"10920\",\"type\":\"Grid\"}],\"left\":[{\"id\":\"10916\",\"type\":\"LinearAxis\"}],\"plot_height\":400,\"plot_width\":1250,\"renderers\":[{\"id\":\"10937\",\"type\":\"GlyphRenderer\"}],\"title\":{\"id\":\"11368\",\"type\":\"Title\"},\"toolbar\":{\"id\":\"10927\",\"type\":\"Toolbar\"},\"x_range\":{\"id\":\"10903\",\"type\":\"DataRange1d\"},\"x_scale\":{\"id\":\"10907\",\"type\":\"LinearScale\"},\"y_range\":{\"id\":\"10905\",\"type\":\"DataRange1d\"},\"y_scale\":{\"id\":\"10909\",\"type\":\"LinearScale\"}},\"id\":\"10902\",\"subtype\":\"Figure\",\"type\":\"Plot\"},{\"attributes\":{\"callback\":null,\"data\":{\"fill_alpha\":{\"__ndarray__\":\"62Hxlnuf6z9goOR0HKXDP7FsmLcqoeY/vyfRw3fx5T8nuD2aB8zvP0qwhtdwKu8/kq8VHAuv4T8UsTp423PXP2WBKfUXr+E/VLYcgeX04j9KwFPQ+9fYP9DbaVVE3Nw/HBQKin8o3T+vUGtsUeTsP4Hv0ZdtQuM//Kg5uPFw6j/g01eIcC3KP8CfjWUSk8Y/9k6DS0Ql1D+/FkZsuXTqPy8kUS2YDOQ/e523gfWc6j/XIpu3Jn/uP8NkPbO9POI/nOSfXqzmwz+aaQNECZ/UP3qFpo0sgOo/YiI/Cvbf6D+YKQYbHTLtP0iL2EG1H7g/DHDCKW714T9YRGKcehnfP6Gv40OCGe8/c3OIb9GZ7D//YCl5Fw7qP6w2nZ5M9NE/wgNVe5Vv2z9srR3CuPLeP6o2Fnv78+c/OGfx0sc65j8=\",\"dtype\":\"float64\",\"shape\":[40]},\"size\":[44,13,19,21,45,14,17,11,35,38,41,22,29,19,32,42,12,28,28,35,40,35,48,38,43,14,16,47,42,34,10,47,21,12,25,19,28,27,38,31],\"x\":[10,16,20,14,17,27,11,23,43,43,33,36,45,45,28,37,28,44,16,31,27,39,22,37,17,49,48,44,25,21,38,18,47,28,25,27,34,15,20,35],\"y\":[21,12,31,47,45,13,41,29,29,31,21,25,24,10,26,46,10,47,25,17,17,27,49,37,16,42,44,29,19,22,43,47,46,40,10,26,43,19,13,25]},\"selected\":{\"id\":\"11375\",\"type\":\"Selection\"},\"selection_policy\":{\"id\":\"11374\",\"type\":\"UnionRenderers\"}},\"id\":\"10934\",\"type\":\"ColumnDataSource\"},{\"attributes\":{\"fill_alpha\":{\"value\":0.1},\"fill_color\":{\"value\":\"#1f77b4\"},\"line_alpha\":{\"value\":0.1},\"line_color\":{\"value\":\"#1f77b4\"},\"size\":{\"field\":\"size\",\"units\":\"screen\"},\"x\":{\"field\":\"x\"},\"y\":{\"field\":\"y\"}},\"id\":\"10936\",\"type\":\"Diamond\"},{\"attributes\":{},\"id\":\"10921\",\"type\":\"PanTool\"},{\"attributes\":{},\"id\":\"10922\",\"type\":\"WheelZoomTool\"},{\"attributes\":{\"overlay\":{\"id\":\"11373\",\"type\":\"BoxAnnotation\"}},\"id\":\"10923\",\"type\":\"BoxZoomTool\"},{\"attributes\":{},\"id\":\"10924\",\"type\":\"SaveTool\"},{\"attributes\":{\"axis_label\":\"r4ndom\",\"formatter\":{\"id\":\"11372\",\"type\":\"BasicTickFormatter\"},\"major_label_orientation\":\"horizontal\",\"major_label_text_color\":{\"value\":\"navy\"},\"minor_tick_in\":3,\"minor_tick_out\":3,\"ticker\":{\"id\":\"10917\",\"type\":\"BasicTicker\"}},\"id\":\"10916\",\"type\":\"LinearAxis\"},{\"attributes\":{\"ticker\":{\"id\":\"10912\",\"type\":\"BasicTicker\"}},\"id\":\"10915\",\"type\":\"Grid\"},{\"attributes\":{},\"id\":\"10925\",\"type\":\"ResetTool\"},{\"attributes\":{},\"id\":\"10912\",\"type\":\"BasicTicker\"},{\"attributes\":{},\"id\":\"10926\",\"type\":\"HelpTool\"},{\"attributes\":{\"active_drag\":\"auto\",\"active_inspect\":\"auto\",\"active_multi\":null,\"active_scroll\":\"auto\",\"active_tap\":\"auto\",\"tools\":[{\"id\":\"10921\",\"type\":\"PanTool\"},{\"id\":\"10922\",\"type\":\"WheelZoomTool\"},{\"id\":\"10923\",\"type\":\"BoxZoomTool\"},{\"id\":\"10924\",\"type\":\"SaveTool\"},{\"id\":\"10925\",\"type\":\"ResetTool\"},{\"id\":\"10926\",\"type\":\"HelpTool\"}]},\"id\":\"10927\",\"type\":\"Toolbar\"},{\"attributes\":{\"text\":\"\"},\"id\":\"11368\",\"type\":\"Title\"},{\"attributes\":{\"data_source\":{\"id\":\"10934\",\"type\":\"ColumnDataSource\"},\"glyph\":{\"id\":\"10935\",\"type\":\"Diamond\"},\"hover_glyph\":null,\"muted_glyph\":null,\"nonselection_glyph\":{\"id\":\"10936\",\"type\":\"Diamond\"},\"selection_glyph\":null,\"view\":{\"id\":\"10938\",\"type\":\"CDSView\"}},\"id\":\"10937\",\"type\":\"GlyphRenderer\"},{\"attributes\":{},\"id\":\"10917\",\"type\":\"BasicTicker\"},{\"attributes\":{\"dimension\":1,\"ticker\":{\"id\":\"10917\",\"type\":\"BasicTicker\"}},\"id\":\"10920\",\"type\":\"Grid\"},{\"attributes\":{\"source\":{\"id\":\"10934\",\"type\":\"ColumnDataSource\"}},\"id\":\"10938\",\"type\":\"CDSView\"},{\"attributes\":{\"callback\":null},\"id\":\"10903\",\"type\":\"DataRange1d\"},{\"attributes\":{\"callback\":null},\"id\":\"10905\",\"type\":\"DataRange1d\"},{\"attributes\":{},\"id\":\"11370\",\"type\":\"BasicTickFormatter\"},{\"attributes\":{\"fill_alpha\":{\"field\":\"fill_alpha\"},\"fill_color\":{\"value\":\"blue\"},\"line_color\":{\"value\":\"pink\"},\"size\":{\"field\":\"size\",\"units\":\"screen\"},\"x\":{\"field\":\"x\"},\"y\":{\"field\":\"y\"}},\"id\":\"10935\",\"type\":\"Diamond\"},{\"attributes\":{},\"id\":\"11372\",\"type\":\"BasicTickFormatter\"},{\"attributes\":{},\"id\":\"10909\",\"type\":\"LinearScale\"},{\"attributes\":{\"bottom_units\":\"screen\",\"fill_alpha\":{\"value\":0.5},\"fill_color\":{\"value\":\"lightgrey\"},\"left_units\":\"screen\",\"level\":\"overlay\",\"line_alpha\":{\"value\":1.0},\"line_color\":{\"value\":\"black\"},\"line_dash\":[4,4],\"line_width\":{\"value\":2},\"render_mode\":\"css\",\"right_units\":\"screen\",\"top_units\":\"screen\"},\"id\":\"11373\",\"type\":\"BoxAnnotation\"},{\"attributes\":{},\"id\":\"10907\",\"type\":\"LinearScale\"},{\"attributes\":{},\"id\":\"11374\",\"type\":\"UnionRenderers\"},{\"attributes\":{\"axis_label\":\"r4ndom\",\"axis_line_color\":{\"value\":\"teal\"},\"axis_line_width\":{\"value\":10},\"formatter\":{\"id\":\"11370\",\"type\":\"BasicTickFormatter\"},\"minor_tick_in\":3,\"minor_tick_out\":3,\"ticker\":{\"id\":\"10912\",\"type\":\"BasicTicker\"}},\"id\":\"10911\",\"type\":\"LinearAxis\"},{\"attributes\":{},\"id\":\"11375\",\"type\":\"Selection\"}],\"root_ids\":[\"10902\"]},\"title\":\"Bokeh Application\",\"version\":\"1.3.4\"}};\n",
       "  var render_items = [{\"docid\":\"266ea511-7862-49ab-a863-55cfa8136a2c\",\"roots\":{\"10902\":\"4f9cdd77-458c-4072-a8ec-a938c2537041\"}}];\n",
       "  root.Bokeh.embed.embed_items_notebook(docs_json, render_items);\n",
       "\n",
       "  }\n",
       "  if (root.Bokeh !== undefined) {\n",
       "    embed_document(root);\n",
       "  } else {\n",
       "    var attempts = 0;\n",
       "    var timer = setInterval(function(root) {\n",
       "      if (root.Bokeh !== undefined) {\n",
       "        embed_document(root);\n",
       "        clearInterval(timer);\n",
       "      }\n",
       "      attempts++;\n",
       "      if (attempts > 100) {\n",
       "        console.log(\"Bokeh: ERROR: Unable to run BokehJS code because BokehJS library is missing\");\n",
       "        clearInterval(timer);\n",
       "      }\n",
       "    }, 10, root)\n",
       "  }\n",
       "})(window);"
      ],
      "application/vnd.bokehjs_exec.v0+json": ""
     },
     "metadata": {
      "application/vnd.bokehjs_exec.v0+json": {
       "id": "10902"
      }
     },
     "output_type": "display_data"
    }
   ],
   "source": [
    "# EXERCISE Create a plot of your own and customize several axis properties\n",
    "# EXERCISE Create a plot of your own and customize several plot-level properties\n",
    "# EXERCISE: Try changing the example above to set a `radius` value instead of `size`\n",
    "\n",
    "# create a new plot with default tools, using figure\n",
    "p = figure(plot_width=1250, plot_height=400)\n",
    "\n",
    "# add a circle renderer with x and y coordinates, size, color, and alpha\n",
    "p.diamond([np.random.randint(10,50) for i in range(40)], [np.random.randint(10,50) for i in range(40)], size=[np.random.randint(10,50) for i in range(40)], line_color=\"pink\", fill_color=\"blue\", fill_alpha=np.random.random_sample((40,)))\n",
    "# change just some things about the x-axes\n",
    "p.xaxis.axis_label = \"r4ndom\"\n",
    "p.xaxis.axis_line_width = 10\n",
    "p.xaxis.axis_line_color = \"teal\"\n",
    "\n",
    "# change just some things about the y-axes\n",
    "p.yaxis.axis_label = \"r4ndom\"\n",
    "p.yaxis.major_label_text_color = \"navy\"\n",
    "p.yaxis.major_label_orientation = \"horizontal\"\n",
    "\n",
    "# change things on all axes\n",
    "p.axis.minor_tick_in = 3\n",
    "p.axis.minor_tick_out = 3\n",
    "show(p) # show the results"
   ]
  },
  {
   "cell_type": "markdown",
   "metadata": {},
   "source": [
    "## Configuring tick labels\n",
    "\n",
    "All Bokeh axes have a `formatter` property, whose value is a `TickFormatter` object that Bokeh uses to format the ticks displayed by that axis. Bokeh will configure default tick formatters for numeric, datetime, or categotical axes. But often we would like to customize the appearance of tick labels. This can be accomplished by changing properties on the default formatter that Bokeh chooses, or by replacing the formatter with a new type entirely. \n",
    "\n",
    "Let's first look at changing the properties of a default formatter. The default datetime formatter is configure to show *month/day* when the axis is on the scale of days. If would like the also always show the year, we can change the `days` property to a format that includes the year, as done below. "
   ]
  },
  {
   "cell_type": "code",
   "execution_count": 39,
   "metadata": {},
   "outputs": [
    {
     "data": {
      "text/html": [
       "\n",
       "\n",
       "\n",
       "\n",
       "\n",
       "\n",
       "  <div class=\"bk-root\" id=\"eb348b7b-aafc-43b5-8bc8-fbdaaeb35c77\" data-root-id=\"13340\"></div>\n"
      ]
     },
     "metadata": {},
     "output_type": "display_data"
    },
    {
     "data": {
      "application/javascript": [
       "(function(root) {\n",
       "  function embed_document(root) {\n",
       "    \n",
       "  var docs_json = {\"3e290e9e-e9f1-4abe-8237-d9768d2ac930\":{\"roots\":{\"references\":[{\"attributes\":{\"below\":[{\"id\":\"13351\",\"type\":\"DatetimeAxis\"}],\"center\":[{\"id\":\"13355\",\"type\":\"Grid\"},{\"id\":\"13360\",\"type\":\"Grid\"}],\"left\":[{\"id\":\"13356\",\"type\":\"LinearAxis\"}],\"plot_height\":350,\"plot_width\":800,\"renderers\":[{\"id\":\"13378\",\"type\":\"GlyphRenderer\"}],\"title\":{\"id\":\"13341\",\"type\":\"Title\"},\"toolbar\":{\"id\":\"13367\",\"type\":\"Toolbar\"},\"x_range\":{\"id\":\"13343\",\"type\":\"DataRange1d\"},\"x_scale\":{\"id\":\"13347\",\"type\":\"LinearScale\"},\"y_range\":{\"id\":\"13345\",\"type\":\"DataRange1d\"},\"y_scale\":{\"id\":\"13349\",\"type\":\"LinearScale\"}},\"id\":\"13340\",\"subtype\":\"Figure\",\"type\":\"Plot\"},{\"attributes\":{},\"id\":\"13881\",\"type\":\"BasicTickFormatter\"},{\"attributes\":{},\"id\":\"13896\",\"type\":\"Selection\"},{\"attributes\":{},\"id\":\"13361\",\"type\":\"PanTool\"},{\"attributes\":{\"line_alpha\":0.1,\"line_color\":\"#1f77b4\",\"x\":{\"field\":\"x\"},\"y\":{\"field\":\"y\"}},\"id\":\"13377\",\"type\":\"Line\"},{\"attributes\":{\"data_source\":{\"id\":\"13375\",\"type\":\"ColumnDataSource\"},\"glyph\":{\"id\":\"13376\",\"type\":\"Line\"},\"hover_glyph\":null,\"muted_glyph\":null,\"nonselection_glyph\":{\"id\":\"13377\",\"type\":\"Line\"},\"selection_glyph\":null,\"view\":{\"id\":\"13379\",\"type\":\"CDSView\"}},\"id\":\"13378\",\"type\":\"GlyphRenderer\"},{\"attributes\":{},\"id\":\"13362\",\"type\":\"WheelZoomTool\"},{\"attributes\":{\"callback\":null,\"data\":{\"x\":{\"__ndarray__\":\"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\",\"dtype\":\"float64\",\"shape\":[2217]},\"y\":[92,100,108,115,120,124,128,133,137,142,147,152,157,162,167,171,175,179,185,192,200,207,212,215,217,219,218,219,217,216,216,216,215,214,212,211,209,207,204,203,203,203,203,204,203,202,201,200,199,199,197,193,189,185,182,182,183,184,184,182,177,174,172,170,168,167,166,164,162,160,158,155,152,150,147,140,131,124,120,116,114,114,116,118,119,120,120,120,119,117,114,112,112,111,111,112,111,111,110,108,106,106,106,106,104,101,101,103,102,100,99,100,100,99,99,99,100,99,98,97,97,96,92,90,89,86,85,85,84,84,81,80,81,86,99,115,125,130,129,128,123,118,113,111,112,111,109,108,105,101,100,102,107,113,119,125,129,131,129,128,127,127,127,125,122,117,113,108,103,98,93,89,86,85,83,82,81,82,84,87,92,99,107,121,133,142,146,149,150,151,151,152,152,150,148,161,160,158,157,157,157,156,153,149,147,145,144,145,149,154,159,163,164,164,164,163,162,158,154,153,154,155,157,159,158,156,152,148,144,139,134,128,123,121,119,117,115,115,112,109,106,105,103,101,97,93,89,86,85,88,93,100,106,113,119,125,131,137,142,149,159,172,186,197,204,207,208,207,205,202,199,197,193,185,176,178,177,177,176,173,171,170,169,167,166,165,163,163,162,160,156,150,150,150,151,150,150,150,149,149,148,149,147,145,143,139,141,145,147,147,146,145,141,138,136,135,134,133,132,129,124,120,118,112,114,119,123,125,126,127,128,135,143,148,151,153,154,155,156,156,157,157,156,155,154,147,137,131,128,129,131,132,133,135,135,133,131,132,135,138,139,138,136,132,128,126,125,120,113,108,106,105,108,111,113,116,120,120,120,119,118,118,118,118,117,116,113,106,98,93,97,107,115,122,120,113,102,94,95,96,90,88,83,83,85,90,97,98,99,94,89,95,105,111,113,106,95,90,91,96,101,104,109,112,120,123,118,115,123,130,128,130,136,131,121,113,110,108,109,111,115,120,115,108,105,105,104,106,110,111,115,115,117,114,111,107,105,109,111,110,111,115,121,126,135,142,145,147,150,153,156,160,162,161,160,160,159,157,154,152,152,150,143,138,132,128,124,119,112,105,98,92,94,98,106,118,126,128,127,123,123,121,118,115,112,112,114,113,105,78,209,204,214,252,282,290,295,292,284,268,263,262,263,263,262,258,249,236,179,165,157,152,150,149,150,154,158,163,166,166,163,159,158,161,170,176,178,174,170,166,160,156,151,148,147,145,142,141,145,144,144,153,155,152,147,143,145,152,156,157,156,155,155,156,158,158,158,156,152,146,139,139,141,143,145,147,148,149,149,149,148,147,144,140,139,139,138,137,136,135,134,133,134,136,137,136,134,135,139,142,143,141,138,141,145,148,151,152,154,156,155,155,159,163,166,166,166,164,162,160,158,157,155,153,150,150,149,149,149,149,150,152,154,155,155,156,156,157,160,163,165,165,164,163,121,119,117,114,113,112,113,113,113,113,112,113,113,113,114,112,110,109,109,109,108,108,90,90,94,99,107,116,125,130,132,130,124,117,110,103,95,88,81,77,75,63,65,70,73,78,80,80,79,80,83,86,89,94,96,98,104,105,106,106,107,107,109,114,118,121,123,124,123,122,122,123,123,123,124,123,123,124,127,132,137,139,140,140,142,147,152,156,160,165,168,169,169,165,162,160,158,156,154,150,146,144,141,138,136,133,129,124,118,112,107,106,107,108,109,110,111,112,112,113,114,115,116,117,118,119,122,125,128,130,130,131,130,128,126,123,120,116,93,89,86,84,82,79,76,74,72,71,69,70,68,67,66,67,68,69,69,69,68,68,67,66,65,64,63,61,61,60,60,61,63,64,64,64,63,64,65,66,67,67,66,66,67,68,69,71,73,72,71,70,71,72,74,75,76,78,79,80,81,82,84,86,88,88,87,86,85,86,86,86,86,87,87,88,88,88,89,87,83,79,78,82,85,87,88,89,89,89,87,86,88,89,90,89,90,92,91,90,89,88,87,87,89,90,91,92,94,108,110,110,111,111,111,112,113,114,116,116,116,117,119,121,124,127,131,138,145,150,155,161,165,169,173,177,182,185,185,184,189,193,195,198,198,197,196,196,199,202,202,201,202,204,205,205,203,202,201,197,197,198,199,200,199,195,190,184,180,178,179,180,179,176,175,174,172,169,168,167,170,180,191,203,214,219,219,222,227,228,226,223,221,219,219,218,218,219,218,216,214,214,211,208,207,206,206,205,202,199,193,190,187,182,179,176,173,170,167,163,158,152,146,141,135,129,122,114,108,102,97,90,85,81,77,73,68,65,62,61,61,61,61,61,60,59,59,60,61,64,69,75,82,92,104,117,128,137,144,149,153,156,160,164,169,175,180,184,188,191,193,195,196,200,203,207,212,218,223,228,231,234,235,236,327,327,330,333,328,321,316,308,298,287,274,263,255,249,243,239,234,230,225,220,215,210,206,204,204,199,195,190,185,181,177,175,173,171,170,169,169,168,167,166,166,166,163,161,159,158,157,156,154,152,150,149,149,150,150,151,151,152,153,153,153,154,154,154,154,153,152,152,150,149,148,146,145,144,144,143,142,142,141,140,139,137,137,138,136,137,137,136,137,136,134,133,132,132,132,132,132,134,136,138,141,142,142,143,145,150,154,156,158,160,162,164,167,169,172,175,176,175,174,172,170,171,173,178,185,191,198,210,223,235,244,254,265,273,283,290,296,302,307,309,313,316,318,320,322,320,319,317,313,311,306,300,297,294,293,290,287,286,285,282,279,274,271,270,270,269,274,271,267,264,262,259,255,250,244,237,232,227,223,220,215,210,205,199,195,193,197,206,221,239,258,276,291,302,311,318,323,324,322,320,319,320,319,317,314,311,307,302,294,286,280,276,272,267,259,251,245,241,241,241,242,244,245,245,242,237,232,228,225,216,215,216,217,217,215,211,206,202,200,201,203,201,196,188,176,163,149,138,129,119,108,98,89,79,71,66,66,67,67,68,69,71,74,77,79,81,85,91,99,109,119,132,145,157,168,175,179,183,185,188,188,187,184,179,172,163,159,157,155,153,151,149,148,148,148,147,146,145,145,144,143,143,143,144,145,146,145,144,143,142,140,140,140,140,140,143,147,150,152,152,152,154,155,142,140,138,134,131,130,128,127,126,126,126,126,127,129,131,132,134,136,136,136,136,135,134,132,130,130,130,129,128,127,125,124,123,123,122,121,120,118,115,112,111,111,110,110,109,108,107,107,107,108,107,105,105,105,105,104,103,102,99,97,96,94,94,93,93,92,91,92,94,95,96,97,99,102,104,112,112,112,111,110,107,104,105,105,103,99,96,94,95,102,114,128,144,160,173,185,196,205,209,214,219,226,234,241,248,255,260,265,268,270,272,271,271,268,265,261,256,253,250,246,244,241,237,233,229,225,222,204,200,197,193,190,186,182,179,175,171,168,164,158,154,151,148,145,141,133,139,152,173,196,217,233,244,249,250,253,256,260,263,265,265,264,260,254,246,234,217,200,188,181,175,169,164,159,154,147,138,132,129,127,123,117,111,106,104,103,100,94,88,83,78,75,73,71,69,68,67,67,68,70,71,71,70,69,68,67,67,67,66,67,69,71,74,76,78,80,80,80,80,80,80,82,84,87,90,92,87,87,86,86,86,86,87,87,87,85,83,82,83,87,95,107,118,130,141,149,172,179,187,201,214,221,225,230,232,230,223,216,208,199,191,185,181,177,176,177,176,173,171,169,163,154,152,153,154,154,153,151,150,150,150,152,149,147,148,150,152,152,152,151,151,150,149,147,146,143,140,138,136,137,138,140,138,135,132,130,129,129,129,130,130,129,128,128,128,129,129,128,127,126,125,125,125,125,124,124,121,120,120,123,124,123,122,120,115,113,114,114,115,116,115,112,111,111,109,108,107,107,110,113,114,115,115,115,114,113,113,116,119,120,121,121,122,123,124,125,126,126,126,126,126,127,127,125,122,118,115,111,112,115,117,120,124,127,131,137,143,148,153,159,166,172,178,184,191,199,206,212,217,223,229,232,233,235,237,240,241,243,246,247,246,243,240,234,229,225,221,217,216,215,215,215,212,208,203,199,196,194,190,185,180,177,163,158,152,149,153,163,174,182,188,192,195,197,201,204,205,203,199,195,189,184,176,169,162,150,138,128,119,110,100,90,80,73,68,64,63,63,66,68,70,71,72,74,80,94,116,141,164,183,198,210,220,228,233,237,241,247,252,256,260,259,258,256,251,245,238,234,227,221,215,208,207,207,203,201,201,199,179,176,171,163,152,137,119,98,77,61,50,45,47,59,71,86,99,109,116,117,115,111,107,102,96,91,90,94,97,97,95,92,87,84,84,83,84,86,86,86,84,82,82,81,81,82,84,87,89,91,92,94,93,93,94,96,100,101,99,97,96,96,97,97,98,99,101,102,106,114,121,127,130,124,105,109,119,127,129,132,129,126,126,126,126,126,125,124,125,130,130,128,126,126,126,126,126,126,126,127,128,129,129,127,128,136,141,143,141,138,131,129,133,134,130,129,134,137,139,138,130,122,118,115,114,113,113,112,112,117,118,117,118,118,117,117,114,112,115,118,124,126,119,121,122,274,285,293,297,298,298,296,293,289,282,275,267,256,249,242,233,225,217,217,215,203,190,185,193,202,202,194,182,170,143,130,120,110,102,93,80,67,57,52,50,49,49,54,72,93,104,114,125,134,140,145,145,141,136,130,124,118,116,114,112,108,105,102,99,95,91,88,85,83,82,80,79,79,83,86,87,88,89,89,88,88,90,92,88,86,86,86,84,82,84,88,90,94,99,104,107,107,105,104,103,95,94,93,93,93,93,93,94,99,109,122,172,169,164,156,147,137,126,115,104,99,99,103,106,111,115,117,118,120,120,120,120,119,119,118,118,117,116,115,115,116,116,115,115,114,112,109,110,111,111,110,109,109,109,108,107,106,105,101,100,99,99,98,97,97]},\"selected\":{\"id\":\"13896\",\"type\":\"Selection\"},\"selection_policy\":{\"id\":\"13895\",\"type\":\"UnionRenderers\"}},\"id\":\"13375\",\"type\":\"ColumnDataSource\"},{\"attributes\":{\"overlay\":{\"id\":\"13882\",\"type\":\"BoxAnnotation\"}},\"id\":\"13363\",\"type\":\"BoxZoomTool\"},{\"attributes\":{\"source\":{\"id\":\"13375\",\"type\":\"ColumnDataSource\"}},\"id\":\"13379\",\"type\":\"CDSView\"},{\"attributes\":{\"bottom_units\":\"screen\",\"fill_alpha\":{\"value\":0.5},\"fill_color\":{\"value\":\"lightgrey\"},\"left_units\":\"screen\",\"level\":\"overlay\",\"line_alpha\":{\"value\":1.0},\"line_color\":{\"value\":\"black\"},\"line_dash\":[4,4],\"line_width\":{\"value\":2},\"render_mode\":\"css\",\"right_units\":\"screen\",\"top_units\":\"screen\"},\"id\":\"13882\",\"type\":\"BoxAnnotation\"},{\"attributes\":{},\"id\":\"13364\",\"type\":\"SaveTool\"},{\"attributes\":{},\"id\":\"13894\",\"type\":\"YearsTicker\"},{\"attributes\":{\"mantissas\":[1,2,5],\"max_interval\":500.0,\"num_minor_ticks\":0},\"id\":\"13883\",\"type\":\"AdaptiveTicker\"},{\"attributes\":{\"formatter\":{\"id\":\"13881\",\"type\":\"BasicTickFormatter\"},\"ticker\":{\"id\":\"13357\",\"type\":\"BasicTicker\"}},\"id\":\"13356\",\"type\":\"LinearAxis\"},{\"attributes\":{\"base\":60,\"mantissas\":[1,2,5,10,15,20,30],\"max_interval\":1800000.0,\"min_interval\":1000.0,\"num_minor_ticks\":0},\"id\":\"13884\",\"type\":\"AdaptiveTicker\"},{\"attributes\":{\"line_color\":\"#1f77b4\",\"x\":{\"field\":\"x\"},\"y\":{\"field\":\"y\"}},\"id\":\"13376\",\"type\":\"Line\"},{\"attributes\":{\"base\":24,\"mantissas\":[1,2,4,6,8,12],\"max_interval\":43200000.0,\"min_interval\":3600000.0,\"num_minor_ticks\":0},\"id\":\"13885\",\"type\":\"AdaptiveTicker\"},{\"attributes\":{},\"id\":\"13365\",\"type\":\"ResetTool\"},{\"attributes\":{\"days\":[1,2,3,4,5,6,7,8,9,10,11,12,13,14,15,16,17,18,19,20,21,22,23,24,25,26,27,28,29,30,31]},\"id\":\"13886\",\"type\":\"DaysTicker\"},{\"attributes\":{\"callback\":null},\"id\":\"13345\",\"type\":\"DataRange1d\"},{\"attributes\":{},\"id\":\"13366\",\"type\":\"HelpTool\"},{\"attributes\":{\"days\":[1,4,7,10,13,16,19,22,25,28]},\"id\":\"13887\",\"type\":\"DaysTicker\"},{\"attributes\":{},\"id\":\"13347\",\"type\":\"LinearScale\"},{\"attributes\":{\"days\":[1,8,15,22]},\"id\":\"13888\",\"type\":\"DaysTicker\"},{\"attributes\":{\"formatter\":{\"id\":\"13374\",\"type\":\"DatetimeTickFormatter\"},\"major_label_orientation\":1.0471975511965976,\"ticker\":{\"id\":\"13352\",\"type\":\"DatetimeTicker\"}},\"id\":\"13351\",\"type\":\"DatetimeAxis\"},{\"attributes\":{\"active_drag\":\"auto\",\"active_inspect\":\"auto\",\"active_multi\":null,\"active_scroll\":\"auto\",\"active_tap\":\"auto\",\"tools\":[{\"id\":\"13361\",\"type\":\"PanTool\"},{\"id\":\"13362\",\"type\":\"WheelZoomTool\"},{\"id\":\"13363\",\"type\":\"BoxZoomTool\"},{\"id\":\"13364\",\"type\":\"SaveTool\"},{\"id\":\"13365\",\"type\":\"ResetTool\"},{\"id\":\"13366\",\"type\":\"HelpTool\"}]},\"id\":\"13367\",\"type\":\"Toolbar\"},{\"attributes\":{\"days\":[1,15]},\"id\":\"13889\",\"type\":\"DaysTicker\"},{\"attributes\":{},\"id\":\"13349\",\"type\":\"LinearScale\"},{\"attributes\":{\"months\":[0,1,2,3,4,5,6,7,8,9,10,11]},\"id\":\"13890\",\"type\":\"MonthsTicker\"},{\"attributes\":{\"num_minor_ticks\":5,\"tickers\":[{\"id\":\"13883\",\"type\":\"AdaptiveTicker\"},{\"id\":\"13884\",\"type\":\"AdaptiveTicker\"},{\"id\":\"13885\",\"type\":\"AdaptiveTicker\"},{\"id\":\"13886\",\"type\":\"DaysTicker\"},{\"id\":\"13887\",\"type\":\"DaysTicker\"},{\"id\":\"13888\",\"type\":\"DaysTicker\"},{\"id\":\"13889\",\"type\":\"DaysTicker\"},{\"id\":\"13890\",\"type\":\"MonthsTicker\"},{\"id\":\"13891\",\"type\":\"MonthsTicker\"},{\"id\":\"13892\",\"type\":\"MonthsTicker\"},{\"id\":\"13893\",\"type\":\"MonthsTicker\"},{\"id\":\"13894\",\"type\":\"YearsTicker\"}]},\"id\":\"13352\",\"type\":\"DatetimeTicker\"},{\"attributes\":{\"months\":[0,2,4,6,8,10]},\"id\":\"13891\",\"type\":\"MonthsTicker\"},{\"attributes\":{},\"id\":\"13357\",\"type\":\"BasicTicker\"},{\"attributes\":{\"callback\":null},\"id\":\"13343\",\"type\":\"DataRange1d\"},{\"attributes\":{\"months\":[0,4,8]},\"id\":\"13892\",\"type\":\"MonthsTicker\"},{\"attributes\":{\"days\":[\"%Y/%m/%d\"]},\"id\":\"13374\",\"type\":\"DatetimeTickFormatter\"},{\"attributes\":{\"ticker\":{\"id\":\"13352\",\"type\":\"DatetimeTicker\"}},\"id\":\"13355\",\"type\":\"Grid\"},{\"attributes\":{\"months\":[0,6]},\"id\":\"13893\",\"type\":\"MonthsTicker\"},{\"attributes\":{\"text\":\"Glocose Range\"},\"id\":\"13341\",\"type\":\"Title\"},{\"attributes\":{\"dimension\":1,\"ticker\":{\"id\":\"13357\",\"type\":\"BasicTicker\"}},\"id\":\"13360\",\"type\":\"Grid\"},{\"attributes\":{},\"id\":\"13895\",\"type\":\"UnionRenderers\"}],\"root_ids\":[\"13340\"]},\"title\":\"Bokeh Application\",\"version\":\"1.3.4\"}};\n",
       "  var render_items = [{\"docid\":\"3e290e9e-e9f1-4abe-8237-d9768d2ac930\",\"roots\":{\"13340\":\"eb348b7b-aafc-43b5-8bc8-fbdaaeb35c77\"}}];\n",
       "  root.Bokeh.embed.embed_items_notebook(docs_json, render_items);\n",
       "\n",
       "  }\n",
       "  if (root.Bokeh !== undefined) {\n",
       "    embed_document(root);\n",
       "  } else {\n",
       "    var attempts = 0;\n",
       "    var timer = setInterval(function(root) {\n",
       "      if (root.Bokeh !== undefined) {\n",
       "        embed_document(root);\n",
       "        clearInterval(timer);\n",
       "      }\n",
       "      attempts++;\n",
       "      if (attempts > 100) {\n",
       "        console.log(\"Bokeh: ERROR: Unable to run BokehJS code because BokehJS library is missing\");\n",
       "        clearInterval(timer);\n",
       "      }\n",
       "    }, 10, root)\n",
       "  }\n",
       "})(window);"
      ],
      "application/vnd.bokehjs_exec.v0+json": ""
     },
     "metadata": {
      "application/vnd.bokehjs_exec.v0+json": {
       "id": "13340"
      }
     },
     "output_type": "display_data"
    }
   ],
   "source": [
    "from math import pi\n",
    "from bokeh.sampledata.glucose import data\n",
    "\n",
    "week = data.loc['2010-10-01':'2010-10-08']\n",
    "\n",
    "p = figure(x_axis_type=\"datetime\", title=\"Glocose Range\", plot_height=350, plot_width=800)\n",
    "p.xaxis[0].formatter.days = '%Y/%m/%d'\n",
    "p.xaxis.major_label_orientation = pi/3\n",
    "\n",
    "p.line(week.index, week.glucose)\n",
    "\n",
    "show(p)"
   ]
  },
  {
   "cell_type": "markdown",
   "metadata": {},
   "source": [
    "See the reference guide entry for [DatetimeTickFormatter](http://bokeh.pydata.org/en/latest/docs/reference/models/formatters.html#bokeh.models.formatters.DatetimeTickFormatter) to see other properties that can be updated. \n",
    "\n",
    "*Note: It's worth noting a little quirk here, because of the way \"splattable\" lists work, we do have to be explicit about which formatter object we want to update, i.e. `p.xaxis[0].formatter`*\n",
    "\n",
    "In addition to the tick formatters that Bokeh will use by default, there are others such as the [`NumeralTickFormatter`](http://bokeh.pydata.org/en/latest/docs/user_guide/styling.html#numeraltickformatter) that we can configure explicitly. The example below shows how to set a formatter on each axis. "
   ]
  },
  {
   "cell_type": "code",
   "execution_count": 40,
   "metadata": {},
   "outputs": [
    {
     "data": {
      "text/html": [
       "\n",
       "\n",
       "\n",
       "\n",
       "\n",
       "\n",
       "  <div class=\"bk-root\" id=\"14a0db40-5a13-4c64-8665-7eea6ce0ffe4\" data-root-id=\"14017\"></div>\n"
      ]
     },
     "metadata": {},
     "output_type": "display_data"
    },
    {
     "data": {
      "application/javascript": [
       "(function(root) {\n",
       "  function embed_document(root) {\n",
       "    \n",
       "  var docs_json = {\"7ce8c609-5115-4045-8b16-5285491f21a4\":{\"roots\":{\"references\":[{\"attributes\":{\"below\":[{\"id\":\"14026\",\"type\":\"LinearAxis\"}],\"center\":[{\"id\":\"14030\",\"type\":\"Grid\"},{\"id\":\"14035\",\"type\":\"Grid\"}],\"left\":[{\"id\":\"14031\",\"type\":\"LinearAxis\"}],\"plot_height\":300,\"plot_width\":800,\"renderers\":[{\"id\":\"14052\",\"type\":\"GlyphRenderer\"}],\"title\":{\"id\":\"14576\",\"type\":\"Title\"},\"toolbar\":{\"id\":\"14042\",\"type\":\"Toolbar\"},\"x_range\":{\"id\":\"14018\",\"type\":\"DataRange1d\"},\"x_scale\":{\"id\":\"14022\",\"type\":\"LinearScale\"},\"y_range\":{\"id\":\"14020\",\"type\":\"DataRange1d\"},\"y_scale\":{\"id\":\"14024\",\"type\":\"LinearScale\"}},\"id\":\"14017\",\"subtype\":\"Figure\",\"type\":\"Plot\"},{\"attributes\":{},\"id\":\"14041\",\"type\":\"HelpTool\"},{\"attributes\":{},\"id\":\"14027\",\"type\":\"BasicTicker\"},{\"attributes\":{\"callback\":null,\"data\":{\"x\":[1,2,3,4,5],\"y\":[2,5,8,2,7]},\"selected\":{\"id\":\"14581\",\"type\":\"Selection\"},\"selection_policy\":{\"id\":\"14580\",\"type\":\"UnionRenderers\"}},\"id\":\"14049\",\"type\":\"ColumnDataSource\"},{\"attributes\":{\"active_drag\":\"auto\",\"active_inspect\":\"auto\",\"active_multi\":null,\"active_scroll\":\"auto\",\"active_tap\":\"auto\",\"tools\":[{\"id\":\"14036\",\"type\":\"PanTool\"},{\"id\":\"14037\",\"type\":\"WheelZoomTool\"},{\"id\":\"14038\",\"type\":\"BoxZoomTool\"},{\"id\":\"14039\",\"type\":\"SaveTool\"},{\"id\":\"14040\",\"type\":\"ResetTool\"},{\"id\":\"14041\",\"type\":\"HelpTool\"}]},\"id\":\"14042\",\"type\":\"Toolbar\"},{\"attributes\":{},\"id\":\"14036\",\"type\":\"PanTool\"},{\"attributes\":{},\"id\":\"14039\",\"type\":\"SaveTool\"},{\"attributes\":{\"source\":{\"id\":\"14049\",\"type\":\"ColumnDataSource\"}},\"id\":\"14053\",\"type\":\"CDSView\"},{\"attributes\":{\"formatter\":{\"id\":\"14054\",\"type\":\"NumeralTickFormatter\"},\"ticker\":{\"id\":\"14027\",\"type\":\"BasicTicker\"}},\"id\":\"14026\",\"type\":\"LinearAxis\"},{\"attributes\":{\"format\":\"$0.00\"},\"id\":\"14056\",\"type\":\"NumeralTickFormatter\"},{\"attributes\":{},\"id\":\"14032\",\"type\":\"BasicTicker\"},{\"attributes\":{},\"id\":\"14580\",\"type\":\"UnionRenderers\"},{\"attributes\":{\"overlay\":{\"id\":\"14579\",\"type\":\"BoxAnnotation\"}},\"id\":\"14038\",\"type\":\"BoxZoomTool\"},{\"attributes\":{\"dimension\":1,\"ticker\":{\"id\":\"14032\",\"type\":\"BasicTicker\"}},\"id\":\"14035\",\"type\":\"Grid\"},{\"attributes\":{\"formatter\":{\"id\":\"14056\",\"type\":\"NumeralTickFormatter\"},\"ticker\":{\"id\":\"14032\",\"type\":\"BasicTicker\"}},\"id\":\"14031\",\"type\":\"LinearAxis\"},{\"attributes\":{\"ticker\":{\"id\":\"14027\",\"type\":\"BasicTicker\"}},\"id\":\"14030\",\"type\":\"Grid\"},{\"attributes\":{\"callback\":null},\"id\":\"14020\",\"type\":\"DataRange1d\"},{\"attributes\":{\"bottom_units\":\"screen\",\"fill_alpha\":{\"value\":0.5},\"fill_color\":{\"value\":\"lightgrey\"},\"left_units\":\"screen\",\"level\":\"overlay\",\"line_alpha\":{\"value\":1.0},\"line_color\":{\"value\":\"black\"},\"line_dash\":[4,4],\"line_width\":{\"value\":2},\"render_mode\":\"css\",\"right_units\":\"screen\",\"top_units\":\"screen\"},\"id\":\"14579\",\"type\":\"BoxAnnotation\"},{\"attributes\":{\"format\":\"0.0%\"},\"id\":\"14054\",\"type\":\"NumeralTickFormatter\"},{\"attributes\":{},\"id\":\"14581\",\"type\":\"Selection\"},{\"attributes\":{\"fill_alpha\":{\"value\":0.1},\"fill_color\":{\"value\":\"#1f77b4\"},\"line_alpha\":{\"value\":0.1},\"line_color\":{\"value\":\"#1f77b4\"},\"size\":{\"units\":\"screen\",\"value\":10},\"x\":{\"field\":\"x\"},\"y\":{\"field\":\"y\"}},\"id\":\"14051\",\"type\":\"Circle\"},{\"attributes\":{},\"id\":\"14040\",\"type\":\"ResetTool\"},{\"attributes\":{\"fill_color\":{\"value\":\"#1f77b4\"},\"line_color\":{\"value\":\"#1f77b4\"},\"size\":{\"units\":\"screen\",\"value\":10},\"x\":{\"field\":\"x\"},\"y\":{\"field\":\"y\"}},\"id\":\"14050\",\"type\":\"Circle\"},{\"attributes\":{\"data_source\":{\"id\":\"14049\",\"type\":\"ColumnDataSource\"},\"glyph\":{\"id\":\"14050\",\"type\":\"Circle\"},\"hover_glyph\":null,\"muted_glyph\":null,\"nonselection_glyph\":{\"id\":\"14051\",\"type\":\"Circle\"},\"selection_glyph\":null,\"view\":{\"id\":\"14053\",\"type\":\"CDSView\"}},\"id\":\"14052\",\"type\":\"GlyphRenderer\"},{\"attributes\":{},\"id\":\"14037\",\"type\":\"WheelZoomTool\"},{\"attributes\":{},\"id\":\"14024\",\"type\":\"LinearScale\"},{\"attributes\":{},\"id\":\"14022\",\"type\":\"LinearScale\"},{\"attributes\":{\"callback\":null},\"id\":\"14018\",\"type\":\"DataRange1d\"},{\"attributes\":{\"text\":\"\"},\"id\":\"14576\",\"type\":\"Title\"}],\"root_ids\":[\"14017\"]},\"title\":\"Bokeh Application\",\"version\":\"1.3.4\"}};\n",
       "  var render_items = [{\"docid\":\"7ce8c609-5115-4045-8b16-5285491f21a4\",\"roots\":{\"14017\":\"14a0db40-5a13-4c64-8665-7eea6ce0ffe4\"}}];\n",
       "  root.Bokeh.embed.embed_items_notebook(docs_json, render_items);\n",
       "\n",
       "  }\n",
       "  if (root.Bokeh !== undefined) {\n",
       "    embed_document(root);\n",
       "  } else {\n",
       "    var attempts = 0;\n",
       "    var timer = setInterval(function(root) {\n",
       "      if (root.Bokeh !== undefined) {\n",
       "        embed_document(root);\n",
       "        clearInterval(timer);\n",
       "      }\n",
       "      attempts++;\n",
       "      if (attempts > 100) {\n",
       "        console.log(\"Bokeh: ERROR: Unable to run BokehJS code because BokehJS library is missing\");\n",
       "        clearInterval(timer);\n",
       "      }\n",
       "    }, 10, root)\n",
       "  }\n",
       "})(window);"
      ],
      "application/vnd.bokehjs_exec.v0+json": ""
     },
     "metadata": {
      "application/vnd.bokehjs_exec.v0+json": {
       "id": "14017"
      }
     },
     "output_type": "display_data"
    }
   ],
   "source": [
    "from bokeh.models import NumeralTickFormatter\n",
    "\n",
    "p = figure(plot_height=300, plot_width=800)\n",
    "p.circle([1,2,3,4,5], [2,5,8,2,7], size=10)\n",
    "\n",
    "p.xaxis.formatter = NumeralTickFormatter(format=\"0.0%\")\n",
    "p.yaxis.formatter = NumeralTickFormatter(format=\"$0.00\")\n",
    "\n",
    "show(p)"
   ]
  },
  {
   "cell_type": "markdown",
   "metadata": {},
   "source": [
    "Try experimenting with the format argument and re-execute the cell above.\n",
    "\n",
    "There are many other possibilities for controlling tick formatting, including the possibility of supplying a JavaScript snippet to perform arbitrary formatting in the browser. See the [Tick Label Formats](http://bokeh.pydata.org/en/latest/docs/user_guide/styling.html#tick-label-formats) for more details.  \n",
    "\n",
    "\n",
    "It is also possible to customize *where* ticks will be drawn. See the [Tick Locations](http://bokeh.pydata.org/en/latest/docs/user_guide/styling.html#tick-locations) section of the User's Guide for more information."
   ]
  },
  {
   "cell_type": "markdown",
   "metadata": {},
   "source": [
    "# Grids\n",
    "\n",
    "It is also possible to control the [styling of Grids](http://bokeh.pydata.org/en/latest/docs/user_guide/styling.html#grids)\n",
    "\n",
    "Grids properties in Bokeh have two possible prefixes:\n",
    "\n",
    "* **grid** properties (which are [line properties](http://bokeh.pydata.org/en/latest/docs/user_guide/styling.html#line-properties)) control the \"grid lines\"\n",
    "* **band** properties (which are [fill properties](http://bokeh.pydata.org/en/latest/docs/user_guide/styling.html#fill-properties)) control shaded bands between grid lines\n",
    "\n",
    "In this first example we turn off the vertical grid lines (by setting the line color to None) and set the horizontal grid to be light and dashed."
   ]
  },
  {
   "cell_type": "code",
   "execution_count": 41,
   "metadata": {},
   "outputs": [
    {
     "data": {
      "text/html": [
       "\n",
       "\n",
       "\n",
       "\n",
       "\n",
       "\n",
       "  <div class=\"bk-root\" id=\"311309ad-98ef-4241-957d-e6bd4a8eb3cf\" data-root-id=\"14624\"></div>\n"
      ]
     },
     "metadata": {},
     "output_type": "display_data"
    },
    {
     "data": {
      "application/javascript": [
       "(function(root) {\n",
       "  function embed_document(root) {\n",
       "    \n",
       "  var docs_json = {\"3d671776-d894-4b1a-ac37-01fb8797f961\":{\"roots\":{\"references\":[{\"attributes\":{\"below\":[{\"id\":\"14633\",\"type\":\"LinearAxis\"}],\"center\":[{\"id\":\"14637\",\"type\":\"Grid\"},{\"id\":\"14642\",\"type\":\"Grid\"}],\"left\":[{\"id\":\"14638\",\"type\":\"LinearAxis\"}],\"plot_height\":400,\"plot_width\":400,\"renderers\":[{\"id\":\"14659\",\"type\":\"GlyphRenderer\"}],\"title\":{\"id\":\"15186\",\"type\":\"Title\"},\"toolbar\":{\"id\":\"14649\",\"type\":\"Toolbar\"},\"x_range\":{\"id\":\"14625\",\"type\":\"DataRange1d\"},\"x_scale\":{\"id\":\"14629\",\"type\":\"LinearScale\"},\"y_range\":{\"id\":\"14627\",\"type\":\"DataRange1d\"},\"y_scale\":{\"id\":\"14631\",\"type\":\"LinearScale\"}},\"id\":\"14624\",\"subtype\":\"Figure\",\"type\":\"Plot\"},{\"attributes\":{},\"id\":\"15190\",\"type\":\"BasicTickFormatter\"},{\"attributes\":{\"callback\":null,\"data\":{\"x\":[1,2,3,4,5],\"y\":[2,5,8,2,7]},\"selected\":{\"id\":\"15193\",\"type\":\"Selection\"},\"selection_policy\":{\"id\":\"15192\",\"type\":\"UnionRenderers\"}},\"id\":\"14656\",\"type\":\"ColumnDataSource\"},{\"attributes\":{\"bottom_units\":\"screen\",\"fill_alpha\":{\"value\":0.5},\"fill_color\":{\"value\":\"lightgrey\"},\"left_units\":\"screen\",\"level\":\"overlay\",\"line_alpha\":{\"value\":1.0},\"line_color\":{\"value\":\"black\"},\"line_dash\":[4,4],\"line_width\":{\"value\":2},\"render_mode\":\"css\",\"right_units\":\"screen\",\"top_units\":\"screen\"},\"id\":\"15191\",\"type\":\"BoxAnnotation\"},{\"attributes\":{},\"id\":\"15192\",\"type\":\"UnionRenderers\"},{\"attributes\":{\"data_source\":{\"id\":\"14656\",\"type\":\"ColumnDataSource\"},\"glyph\":{\"id\":\"14657\",\"type\":\"Circle\"},\"hover_glyph\":null,\"muted_glyph\":null,\"nonselection_glyph\":{\"id\":\"14658\",\"type\":\"Circle\"},\"selection_glyph\":null,\"view\":{\"id\":\"14660\",\"type\":\"CDSView\"}},\"id\":\"14659\",\"type\":\"GlyphRenderer\"},{\"attributes\":{},\"id\":\"14644\",\"type\":\"WheelZoomTool\"},{\"attributes\":{},\"id\":\"15193\",\"type\":\"Selection\"},{\"attributes\":{\"overlay\":{\"id\":\"15191\",\"type\":\"BoxAnnotation\"}},\"id\":\"14645\",\"type\":\"BoxZoomTool\"},{\"attributes\":{},\"id\":\"14647\",\"type\":\"ResetTool\"},{\"attributes\":{\"source\":{\"id\":\"14656\",\"type\":\"ColumnDataSource\"}},\"id\":\"14660\",\"type\":\"CDSView\"},{\"attributes\":{\"active_drag\":\"auto\",\"active_inspect\":\"auto\",\"active_multi\":null,\"active_scroll\":\"auto\",\"active_tap\":\"auto\",\"tools\":[{\"id\":\"14643\",\"type\":\"PanTool\"},{\"id\":\"14644\",\"type\":\"WheelZoomTool\"},{\"id\":\"14645\",\"type\":\"BoxZoomTool\"},{\"id\":\"14646\",\"type\":\"SaveTool\"},{\"id\":\"14647\",\"type\":\"ResetTool\"},{\"id\":\"14648\",\"type\":\"HelpTool\"}]},\"id\":\"14649\",\"type\":\"Toolbar\"},{\"attributes\":{},\"id\":\"14648\",\"type\":\"HelpTool\"},{\"attributes\":{},\"id\":\"14646\",\"type\":\"SaveTool\"},{\"attributes\":{},\"id\":\"14631\",\"type\":\"LinearScale\"},{\"attributes\":{},\"id\":\"15188\",\"type\":\"BasicTickFormatter\"},{\"attributes\":{},\"id\":\"14634\",\"type\":\"BasicTicker\"},{\"attributes\":{\"formatter\":{\"id\":\"15188\",\"type\":\"BasicTickFormatter\"},\"ticker\":{\"id\":\"14634\",\"type\":\"BasicTicker\"}},\"id\":\"14633\",\"type\":\"LinearAxis\"},{\"attributes\":{},\"id\":\"14643\",\"type\":\"PanTool\"},{\"attributes\":{\"fill_color\":{\"value\":\"#1f77b4\"},\"line_color\":{\"value\":\"#1f77b4\"},\"size\":{\"units\":\"screen\",\"value\":10},\"x\":{\"field\":\"x\"},\"y\":{\"field\":\"y\"}},\"id\":\"14657\",\"type\":\"Circle\"},{\"attributes\":{\"callback\":null},\"id\":\"14627\",\"type\":\"DataRange1d\"},{\"attributes\":{\"formatter\":{\"id\":\"15190\",\"type\":\"BasicTickFormatter\"},\"ticker\":{\"id\":\"14639\",\"type\":\"BasicTicker\"}},\"id\":\"14638\",\"type\":\"LinearAxis\"},{\"attributes\":{},\"id\":\"14639\",\"type\":\"BasicTicker\"},{\"attributes\":{},\"id\":\"14629\",\"type\":\"LinearScale\"},{\"attributes\":{\"dimension\":1,\"grid_line_alpha\":0.5,\"grid_line_dash\":[6,4],\"ticker\":{\"id\":\"14639\",\"type\":\"BasicTicker\"}},\"id\":\"14642\",\"type\":\"Grid\"},{\"attributes\":{\"callback\":null},\"id\":\"14625\",\"type\":\"DataRange1d\"},{\"attributes\":{\"text\":\"\"},\"id\":\"15186\",\"type\":\"Title\"},{\"attributes\":{\"fill_alpha\":{\"value\":0.1},\"fill_color\":{\"value\":\"#1f77b4\"},\"line_alpha\":{\"value\":0.1},\"line_color\":{\"value\":\"#1f77b4\"},\"size\":{\"units\":\"screen\",\"value\":10},\"x\":{\"field\":\"x\"},\"y\":{\"field\":\"y\"}},\"id\":\"14658\",\"type\":\"Circle\"},{\"attributes\":{\"grid_line_color\":null,\"ticker\":{\"id\":\"14634\",\"type\":\"BasicTicker\"}},\"id\":\"14637\",\"type\":\"Grid\"}],\"root_ids\":[\"14624\"]},\"title\":\"Bokeh Application\",\"version\":\"1.3.4\"}};\n",
       "  var render_items = [{\"docid\":\"3d671776-d894-4b1a-ac37-01fb8797f961\",\"roots\":{\"14624\":\"311309ad-98ef-4241-957d-e6bd4a8eb3cf\"}}];\n",
       "  root.Bokeh.embed.embed_items_notebook(docs_json, render_items);\n",
       "\n",
       "  }\n",
       "  if (root.Bokeh !== undefined) {\n",
       "    embed_document(root);\n",
       "  } else {\n",
       "    var attempts = 0;\n",
       "    var timer = setInterval(function(root) {\n",
       "      if (root.Bokeh !== undefined) {\n",
       "        embed_document(root);\n",
       "        clearInterval(timer);\n",
       "      }\n",
       "      attempts++;\n",
       "      if (attempts > 100) {\n",
       "        console.log(\"Bokeh: ERROR: Unable to run BokehJS code because BokehJS library is missing\");\n",
       "        clearInterval(timer);\n",
       "      }\n",
       "    }, 10, root)\n",
       "  }\n",
       "})(window);"
      ],
      "application/vnd.bokehjs_exec.v0+json": ""
     },
     "metadata": {
      "application/vnd.bokehjs_exec.v0+json": {
       "id": "14624"
      }
     },
     "output_type": "display_data"
    }
   ],
   "source": [
    "p = figure(plot_width=400, plot_height=400)\n",
    "p.circle([1,2,3,4,5], [2,5,8,2,7], size=10)\n",
    "\n",
    "# change just some things about the x-grid\n",
    "p.xgrid.grid_line_color = None\n",
    "\n",
    "# change just some things about the y-grid\n",
    "p.ygrid.grid_line_alpha = 0.5\n",
    "p.ygrid.grid_line_dash = [6, 4]\n",
    "\n",
    "show(p)"
   ]
  },
  {
   "cell_type": "markdown",
   "metadata": {},
   "source": [
    "The next example shows how the \"band\" properties of a plot can be specified"
   ]
  },
  {
   "cell_type": "code",
   "execution_count": 42,
   "metadata": {},
   "outputs": [
    {
     "data": {
      "text/html": [
       "\n",
       "\n",
       "\n",
       "\n",
       "\n",
       "\n",
       "  <div class=\"bk-root\" id=\"a3d1e18b-05b5-4880-a020-38a4db456c1e\" data-root-id=\"15248\"></div>\n"
      ]
     },
     "metadata": {},
     "output_type": "display_data"
    },
    {
     "data": {
      "application/javascript": [
       "(function(root) {\n",
       "  function embed_document(root) {\n",
       "    \n",
       "  var docs_json = {\"3c231929-ce80-41d8-b482-859f2c204c47\":{\"roots\":{\"references\":[{\"attributes\":{\"below\":[{\"id\":\"15257\",\"type\":\"LinearAxis\"}],\"center\":[{\"id\":\"15261\",\"type\":\"Grid\"},{\"id\":\"15266\",\"type\":\"Grid\"}],\"left\":[{\"id\":\"15262\",\"type\":\"LinearAxis\"}],\"plot_height\":400,\"plot_width\":400,\"renderers\":[{\"id\":\"15283\",\"type\":\"GlyphRenderer\"}],\"title\":{\"id\":\"15819\",\"type\":\"Title\"},\"toolbar\":{\"id\":\"15273\",\"type\":\"Toolbar\"},\"x_range\":{\"id\":\"15249\",\"type\":\"DataRange1d\"},\"x_scale\":{\"id\":\"15253\",\"type\":\"LinearScale\"},\"y_range\":{\"id\":\"15251\",\"type\":\"DataRange1d\"},\"y_scale\":{\"id\":\"15255\",\"type\":\"LinearScale\"}},\"id\":\"15248\",\"subtype\":\"Figure\",\"type\":\"Plot\"},{\"attributes\":{\"fill_alpha\":{\"value\":0.1},\"fill_color\":{\"value\":\"#1f77b4\"},\"line_alpha\":{\"value\":0.1},\"line_color\":{\"value\":\"#1f77b4\"},\"size\":{\"units\":\"screen\",\"value\":10},\"x\":{\"field\":\"x\"},\"y\":{\"field\":\"y\"}},\"id\":\"15282\",\"type\":\"Circle\"},{\"attributes\":{},\"id\":\"15826\",\"type\":\"Selection\"},{\"attributes\":{},\"id\":\"15823\",\"type\":\"BasicTickFormatter\"},{\"attributes\":{},\"id\":\"15821\",\"type\":\"BasicTickFormatter\"},{\"attributes\":{\"callback\":null,\"data\":{\"x\":[1,2,3,4,5],\"y\":[2,5,8,2,7]},\"selected\":{\"id\":\"15826\",\"type\":\"Selection\"},\"selection_policy\":{\"id\":\"15825\",\"type\":\"UnionRenderers\"}},\"id\":\"15280\",\"type\":\"ColumnDataSource\"},{\"attributes\":{\"formatter\":{\"id\":\"15821\",\"type\":\"BasicTickFormatter\"},\"ticker\":{\"id\":\"15258\",\"type\":\"BasicTicker\"}},\"id\":\"15257\",\"type\":\"LinearAxis\"},{\"attributes\":{},\"id\":\"15825\",\"type\":\"UnionRenderers\"},{\"attributes\":{\"active_drag\":\"auto\",\"active_inspect\":\"auto\",\"active_multi\":null,\"active_scroll\":\"auto\",\"active_tap\":\"auto\",\"tools\":[{\"id\":\"15267\",\"type\":\"PanTool\"},{\"id\":\"15268\",\"type\":\"WheelZoomTool\"},{\"id\":\"15269\",\"type\":\"BoxZoomTool\"},{\"id\":\"15270\",\"type\":\"SaveTool\"},{\"id\":\"15271\",\"type\":\"ResetTool\"},{\"id\":\"15272\",\"type\":\"HelpTool\"}]},\"id\":\"15273\",\"type\":\"Toolbar\"},{\"attributes\":{},\"id\":\"15255\",\"type\":\"LinearScale\"},{\"attributes\":{\"bottom_units\":\"screen\",\"fill_alpha\":{\"value\":0.5},\"fill_color\":{\"value\":\"lightgrey\"},\"left_units\":\"screen\",\"level\":\"overlay\",\"line_alpha\":{\"value\":1.0},\"line_color\":{\"value\":\"black\"},\"line_dash\":[4,4],\"line_width\":{\"value\":2},\"render_mode\":\"css\",\"right_units\":\"screen\",\"top_units\":\"screen\"},\"id\":\"15824\",\"type\":\"BoxAnnotation\"},{\"attributes\":{\"callback\":null},\"id\":\"15251\",\"type\":\"DataRange1d\"},{\"attributes\":{\"text\":\"\"},\"id\":\"15819\",\"type\":\"Title\"},{\"attributes\":{\"callback\":null},\"id\":\"15249\",\"type\":\"DataRange1d\"},{\"attributes\":{\"data_source\":{\"id\":\"15280\",\"type\":\"ColumnDataSource\"},\"glyph\":{\"id\":\"15281\",\"type\":\"Circle\"},\"hover_glyph\":null,\"muted_glyph\":null,\"nonselection_glyph\":{\"id\":\"15282\",\"type\":\"Circle\"},\"selection_glyph\":null,\"view\":{\"id\":\"15284\",\"type\":\"CDSView\"}},\"id\":\"15283\",\"type\":\"GlyphRenderer\"},{\"attributes\":{\"fill_color\":{\"value\":\"#1f77b4\"},\"line_color\":{\"value\":\"#1f77b4\"},\"size\":{\"units\":\"screen\",\"value\":10},\"x\":{\"field\":\"x\"},\"y\":{\"field\":\"y\"}},\"id\":\"15281\",\"type\":\"Circle\"},{\"attributes\":{},\"id\":\"15267\",\"type\":\"PanTool\"},{\"attributes\":{\"band_fill_alpha\":0.1,\"band_fill_color\":\"navy\",\"dimension\":1,\"ticker\":{\"id\":\"15263\",\"type\":\"BasicTicker\"}},\"id\":\"15266\",\"type\":\"Grid\"},{\"attributes\":{\"source\":{\"id\":\"15280\",\"type\":\"ColumnDataSource\"}},\"id\":\"15284\",\"type\":\"CDSView\"},{\"attributes\":{},\"id\":\"15263\",\"type\":\"BasicTicker\"},{\"attributes\":{\"formatter\":{\"id\":\"15823\",\"type\":\"BasicTickFormatter\"},\"ticker\":{\"id\":\"15263\",\"type\":\"BasicTicker\"}},\"id\":\"15262\",\"type\":\"LinearAxis\"},{\"attributes\":{\"grid_line_color\":null,\"ticker\":{\"id\":\"15258\",\"type\":\"BasicTicker\"}},\"id\":\"15261\",\"type\":\"Grid\"},{\"attributes\":{},\"id\":\"15270\",\"type\":\"SaveTool\"},{\"attributes\":{},\"id\":\"15268\",\"type\":\"WheelZoomTool\"},{\"attributes\":{},\"id\":\"15271\",\"type\":\"ResetTool\"},{\"attributes\":{},\"id\":\"15258\",\"type\":\"BasicTicker\"},{\"attributes\":{},\"id\":\"15253\",\"type\":\"LinearScale\"},{\"attributes\":{\"overlay\":{\"id\":\"15824\",\"type\":\"BoxAnnotation\"}},\"id\":\"15269\",\"type\":\"BoxZoomTool\"},{\"attributes\":{},\"id\":\"15272\",\"type\":\"HelpTool\"}],\"root_ids\":[\"15248\"]},\"title\":\"Bokeh Application\",\"version\":\"1.3.4\"}};\n",
       "  var render_items = [{\"docid\":\"3c231929-ce80-41d8-b482-859f2c204c47\",\"roots\":{\"15248\":\"a3d1e18b-05b5-4880-a020-38a4db456c1e\"}}];\n",
       "  root.Bokeh.embed.embed_items_notebook(docs_json, render_items);\n",
       "\n",
       "  }\n",
       "  if (root.Bokeh !== undefined) {\n",
       "    embed_document(root);\n",
       "  } else {\n",
       "    var attempts = 0;\n",
       "    var timer = setInterval(function(root) {\n",
       "      if (root.Bokeh !== undefined) {\n",
       "        embed_document(root);\n",
       "        clearInterval(timer);\n",
       "      }\n",
       "      attempts++;\n",
       "      if (attempts > 100) {\n",
       "        console.log(\"Bokeh: ERROR: Unable to run BokehJS code because BokehJS library is missing\");\n",
       "        clearInterval(timer);\n",
       "      }\n",
       "    }, 10, root)\n",
       "  }\n",
       "})(window);"
      ],
      "application/vnd.bokehjs_exec.v0+json": ""
     },
     "metadata": {
      "application/vnd.bokehjs_exec.v0+json": {
       "id": "15248"
      }
     },
     "output_type": "display_data"
    }
   ],
   "source": [
    "p = figure(plot_width=400, plot_height=400)\n",
    "p.circle([1,2,3,4,5], [2,5,8,2,7], size=10)\n",
    "\n",
    "# change just some things about the x-grid\n",
    "p.xgrid.grid_line_color = None\n",
    "\n",
    "# change just some things about the y-grid\n",
    "p.ygrid.band_fill_alpha = 0.1\n",
    "p.ygrid.band_fill_color = \"navy\"\n",
    "\n",
    "show(p)"
   ]
  },
  {
   "cell_type": "code",
   "execution_count": 47,
   "metadata": {},
   "outputs": [
    {
     "data": {
      "text/html": [
       "\n",
       "\n",
       "\n",
       "\n",
       "\n",
       "\n",
       "  <div class=\"bk-root\" id=\"4ed2ed18-f826-48fb-aeae-9dede50422b2\" data-root-id=\"17871\"></div>\n"
      ]
     },
     "metadata": {},
     "output_type": "display_data"
    },
    {
     "data": {
      "application/javascript": [
       "(function(root) {\n",
       "  function embed_document(root) {\n",
       "    \n",
       "  var docs_json = {\"cdaf9ef7-998f-49a9-98a6-401f63180c70\":{\"roots\":{\"references\":[{\"attributes\":{\"below\":[{\"id\":\"17880\",\"type\":\"LinearAxis\"}],\"center\":[{\"id\":\"17884\",\"type\":\"Grid\"},{\"id\":\"17889\",\"type\":\"Grid\"}],\"left\":[{\"id\":\"17885\",\"type\":\"LinearAxis\"}],\"plot_height\":400,\"plot_width\":1250,\"renderers\":[{\"id\":\"17906\",\"type\":\"GlyphRenderer\"}],\"title\":{\"id\":\"18478\",\"type\":\"Title\"},\"toolbar\":{\"id\":\"17896\",\"type\":\"Toolbar\"},\"x_range\":{\"id\":\"17872\",\"type\":\"DataRange1d\"},\"x_scale\":{\"id\":\"17876\",\"type\":\"LinearScale\"},\"y_range\":{\"id\":\"17874\",\"type\":\"DataRange1d\"},\"y_scale\":{\"id\":\"17878\",\"type\":\"LinearScale\"}},\"id\":\"17871\",\"subtype\":\"Figure\",\"type\":\"Plot\"},{\"attributes\":{},\"id\":\"18482\",\"type\":\"BasicTickFormatter\"},{\"attributes\":{},\"id\":\"17876\",\"type\":\"LinearScale\"},{\"attributes\":{\"callback\":null},\"id\":\"17874\",\"type\":\"DataRange1d\"},{\"attributes\":{},\"id\":\"18480\",\"type\":\"BasicTickFormatter\"},{\"attributes\":{},\"id\":\"17886\",\"type\":\"BasicTicker\"},{\"attributes\":{\"formatter\":{\"id\":\"18480\",\"type\":\"BasicTickFormatter\"},\"ticker\":{\"id\":\"17881\",\"type\":\"BasicTicker\"}},\"id\":\"17880\",\"type\":\"LinearAxis\"},{\"attributes\":{\"callback\":null},\"id\":\"17872\",\"type\":\"DataRange1d\"},{\"attributes\":{\"bottom_units\":\"screen\",\"fill_alpha\":{\"value\":0.5},\"fill_color\":{\"value\":\"lightgrey\"},\"left_units\":\"screen\",\"level\":\"overlay\",\"line_alpha\":{\"value\":1.0},\"line_color\":{\"value\":\"black\"},\"line_dash\":[4,4],\"line_width\":{\"value\":2},\"render_mode\":\"css\",\"right_units\":\"screen\",\"top_units\":\"screen\"},\"id\":\"18483\",\"type\":\"BoxAnnotation\"},{\"attributes\":{},\"id\":\"17878\",\"type\":\"LinearScale\"},{\"attributes\":{\"band_fill_alpha\":0.5,\"band_fill_color\":\"teal\",\"dimension\":1,\"ticker\":{\"id\":\"17886\",\"type\":\"BasicTicker\"}},\"id\":\"17889\",\"type\":\"Grid\"},{\"attributes\":{\"formatter\":{\"id\":\"18482\",\"type\":\"BasicTickFormatter\"},\"ticker\":{\"id\":\"17886\",\"type\":\"BasicTicker\"}},\"id\":\"17885\",\"type\":\"LinearAxis\"},{\"attributes\":{\"callback\":null,\"data\":{\"fill_alpha\":{\"__ndarray__\":\"rHYFHMrhxj9s/VEDe6HHP50TspAWNuA/aTRlhMCY7D9yoeYcBIPQP5DoLvaOz6A/EIGf9X0MyD+AAsbp6Nx5P8Y6hBNuTOs/5VD87vlc6D9gmAoxrYLGP9eSwjw1PO0/ud3lQe0a6D/B1+Wu+DHlP/gHOSQV4dA/1NUMb/iH0z/EQdpQYRLCPwq7PAMtndk/LAP4EvOD7j+YWoYeCAXnPzMz46UjYuY/LugrzS4o4D9geS0eiDuuP2aSiz0lnek/DpXna5vY3T8bVVE59/njP4B5kkm/loo/LYbQSecb4j+5NpCa5b/pPzFI8bOuO+A/BM2qE4Kc3T8is8v2X6bXPy/mfI+Ct+g/egs+Zy5D1T+MSDRwZyTCP7CsJS1hI78/SY/4fMRi4D/MgwbWLI7hP5/5pPS8g+c/yHmdznES2D8=\",\"dtype\":\"float64\",\"shape\":[40]},\"size\":[45,12,18,36,35,41,15,46,12,37,48,24,33,39,13,13,39,46,48,36,38,37,21,21,36,11,41,33,39,37,24,16,42,35,15,30,44,22,21,10],\"x\":[33,41,20,36,35,37,25,49,10,45,38,32,47,26,36,11,31,19,13,24,16,46,39,40,18,27,20,13,16,10,29,33,15,26,41,48,35,14,17,42],\"y\":[49,13,17,37,17,47,49,29,22,26,41,32,29,39,14,33,16,14,38,20,12,12,14,16,40,10,27,41,30,46,42,10,44,12,16,24,37,14,21,17]},\"selected\":{\"id\":\"18485\",\"type\":\"Selection\"},\"selection_policy\":{\"id\":\"18484\",\"type\":\"UnionRenderers\"}},\"id\":\"17903\",\"type\":\"ColumnDataSource\"},{\"attributes\":{\"band_hatch_alpha\":0.6,\"band_hatch_color\":\"lightgrey\",\"band_hatch_pattern\":\"/\",\"band_hatch_scale\":10,\"band_hatch_weight\":0.5,\"grid_line_color\":null,\"ticker\":{\"id\":\"17881\",\"type\":\"BasicTicker\"}},\"id\":\"17884\",\"type\":\"Grid\"},{\"attributes\":{\"fill_alpha\":{\"value\":0.1},\"fill_color\":{\"value\":\"#1f77b4\"},\"line_alpha\":{\"value\":0.1},\"line_color\":{\"value\":\"#1f77b4\"},\"size\":{\"field\":\"size\",\"units\":\"screen\"},\"x\":{\"field\":\"x\"},\"y\":{\"field\":\"y\"}},\"id\":\"17905\",\"type\":\"DiamondCross\"},{\"attributes\":{\"source\":{\"id\":\"17903\",\"type\":\"ColumnDataSource\"}},\"id\":\"17907\",\"type\":\"CDSView\"},{\"attributes\":{\"active_drag\":\"auto\",\"active_inspect\":\"auto\",\"active_multi\":null,\"active_scroll\":\"auto\",\"active_tap\":\"auto\",\"tools\":[{\"id\":\"17890\",\"type\":\"PanTool\"},{\"id\":\"17891\",\"type\":\"WheelZoomTool\"},{\"id\":\"17892\",\"type\":\"BoxZoomTool\"},{\"id\":\"17893\",\"type\":\"SaveTool\"},{\"id\":\"17894\",\"type\":\"ResetTool\"},{\"id\":\"17895\",\"type\":\"HelpTool\"}]},\"id\":\"17896\",\"type\":\"Toolbar\"},{\"attributes\":{},\"id\":\"17881\",\"type\":\"BasicTicker\"},{\"attributes\":{},\"id\":\"17895\",\"type\":\"HelpTool\"},{\"attributes\":{},\"id\":\"17890\",\"type\":\"PanTool\"},{\"attributes\":{\"fill_alpha\":{\"field\":\"fill_alpha\"},\"fill_color\":{\"value\":\"blue\"},\"line_color\":{\"value\":\"pink\"},\"size\":{\"field\":\"size\",\"units\":\"screen\"},\"x\":{\"field\":\"x\"},\"y\":{\"field\":\"y\"}},\"id\":\"17904\",\"type\":\"DiamondCross\"},{\"attributes\":{\"data_source\":{\"id\":\"17903\",\"type\":\"ColumnDataSource\"},\"glyph\":{\"id\":\"17904\",\"type\":\"DiamondCross\"},\"hover_glyph\":null,\"muted_glyph\":null,\"nonselection_glyph\":{\"id\":\"17905\",\"type\":\"DiamondCross\"},\"selection_glyph\":null,\"view\":{\"id\":\"17907\",\"type\":\"CDSView\"}},\"id\":\"17906\",\"type\":\"GlyphRenderer\"},{\"attributes\":{\"text\":\"\"},\"id\":\"18478\",\"type\":\"Title\"},{\"attributes\":{},\"id\":\"17894\",\"type\":\"ResetTool\"},{\"attributes\":{},\"id\":\"17893\",\"type\":\"SaveTool\"},{\"attributes\":{},\"id\":\"18484\",\"type\":\"UnionRenderers\"},{\"attributes\":{},\"id\":\"17891\",\"type\":\"WheelZoomTool\"},{\"attributes\":{},\"id\":\"18485\",\"type\":\"Selection\"},{\"attributes\":{\"overlay\":{\"id\":\"18483\",\"type\":\"BoxAnnotation\"}},\"id\":\"17892\",\"type\":\"BoxZoomTool\"}],\"root_ids\":[\"17871\"]},\"title\":\"Bokeh Application\",\"version\":\"1.3.4\"}};\n",
       "  var render_items = [{\"docid\":\"cdaf9ef7-998f-49a9-98a6-401f63180c70\",\"roots\":{\"17871\":\"4ed2ed18-f826-48fb-aeae-9dede50422b2\"}}];\n",
       "  root.Bokeh.embed.embed_items_notebook(docs_json, render_items);\n",
       "\n",
       "  }\n",
       "  if (root.Bokeh !== undefined) {\n",
       "    embed_document(root);\n",
       "  } else {\n",
       "    var attempts = 0;\n",
       "    var timer = setInterval(function(root) {\n",
       "      if (root.Bokeh !== undefined) {\n",
       "        embed_document(root);\n",
       "        clearInterval(timer);\n",
       "      }\n",
       "      attempts++;\n",
       "      if (attempts > 100) {\n",
       "        console.log(\"Bokeh: ERROR: Unable to run BokehJS code because BokehJS library is missing\");\n",
       "        clearInterval(timer);\n",
       "      }\n",
       "    }, 10, root)\n",
       "  }\n",
       "})(window);"
      ],
      "application/vnd.bokehjs_exec.v0+json": ""
     },
     "metadata": {
      "application/vnd.bokehjs_exec.v0+json": {
       "id": "17871"
      }
     },
     "output_type": "display_data"
    }
   ],
   "source": [
    "# EXERCISE Create a plot of your own and customize several grid properties\n",
    "# EXERCISE Create a plot of your own and customize several plot-level properties\n",
    "# EXERCISE: Try changing the example above to set a `radius` value instead of `size`\n",
    "\n",
    "# create a new plot with default tools, using figure\n",
    "p = figure(plot_width=1250, plot_height=400)\n",
    "\n",
    "# add a circle renderer with x and y coordinates, size, color, and alpha\n",
    "p.diamond_cross([np.random.randint(10,50) for i in range(40)], [np.random.randint(10,50) for i in range(40)], size=[np.random.randint(10,50) for i in range(40)], line_color=\"pink\", fill_color=\"blue\", fill_alpha=np.random.random_sample((40,)))\n",
    "# change just some things about the x-grid\n",
    "p.xgrid.grid_line_color = None\n",
    "\n",
    "# change just some things about the y-grid\n",
    "p.ygrid.band_fill_alpha = 0.5\n",
    "p.ygrid.band_fill_color = \"teal\"\n",
    "\n",
    "p.xgrid.band_hatch_pattern = \"/\"\n",
    "p.xgrid.band_hatch_alpha = 0.6\n",
    "p.xgrid.band_hatch_color = \"lightgrey\"\n",
    "p.xgrid.band_hatch_weight = 0.5\n",
    "p.xgrid.band_hatch_scale = 10\n",
    "\n",
    "\n",
    "show(p) # show the results"
   ]
  },
  {
   "cell_type": "code",
   "execution_count": null,
   "metadata": {},
   "outputs": [],
   "source": []
  }
 ],
 "metadata": {
  "kernelspec": {
   "display_name": "Python 3",
   "language": "python",
   "name": "python3"
  },
  "language_info": {
   "codemirror_mode": {
    "name": "ipython",
    "version": 3
   },
   "file_extension": ".py",
   "mimetype": "text/x-python",
   "name": "python",
   "nbconvert_exporter": "python",
   "pygments_lexer": "ipython3",
   "version": "3.7.3"
  }
 },
 "nbformat": 4,
 "nbformat_minor": 1
}
